{
 "cells": [
  {
   "attachments": {},
   "cell_type": "markdown",
   "metadata": {},
   "source": [
    "This file allows to analyze results obtained by running experiments_competing_risk."
   ]
  },
  {
   "cell_type": "code",
   "execution_count": 1,
   "metadata": {},
   "outputs": [],
   "source": [
    "import os \n",
    "import pickle\n",
    "import numpy as np\n",
    "import pandas as pd\n",
    "import seaborn as sns\n",
    "import matplotlib.pyplot as plt\n",
    "from sklearn.metrics import confusion_matrix\n",
    "\n",
    "import sys\n",
    "\n",
    "sys.path.append('../')\n",
    "sys.path.append('../DeepSurvivalMachines/')\n",
    "from nfg import datasets"
   ]
  },
  {
   "cell_type": "code",
   "execution_count": 9,
   "metadata": {},
   "outputs": [
    {
     "name": "stdout",
     "output_type": "stream",
     "text": [
      "      event  mean_time_to_event  std_time_to_event  num_events\n",
      "1536      0         1503.952590         592.340432        1139\n",
      "0         1         1019.785340         641.486991         382\n",
      "2         2         1120.975096         655.303517        1044\n",
      "28        3         1045.281818         640.117351         110\n"
     ]
    }
   ],
   "source": [
    "df = pd.read_csv(\"/home/dmitrii/GitHub/NeuralFineGray/data/datasets/labels/cvd_diabetes_copd_ckd_3m_unspec/labels_ihd_hd_stroke.csv\")\n",
    "# for each event calculate mean time to event and standard deviation\n",
    "df['mean_time_to_event'] = df.groupby('event')['time_to_event'].transform('mean')\n",
    "# calculate the mean time to event and standard deviation for each event\n",
    "df['std_time_to_event'] = df.groupby('event')['time_to_event'].transform('std')\n",
    "# calculate the number of events for each event\n",
    "df['num_events'] = df.groupby('event')['time_to_event'].transform('count')\n",
    "# print stats \n",
    "print(df[['event', 'mean_time_to_event', 'std_time_to_event', 'num_events']].drop_duplicates().sort_values('event'))"
   ]
  },
  {
   "cell_type": "code",
   "execution_count": 6,
   "metadata": {},
   "outputs": [
    {
     "data": {
      "text/html": [
       "<div>\n",
       "<style scoped>\n",
       "    .dataframe tbody tr th:only-of-type {\n",
       "        vertical-align: middle;\n",
       "    }\n",
       "\n",
       "    .dataframe tbody tr th {\n",
       "        vertical-align: top;\n",
       "    }\n",
       "\n",
       "    .dataframe thead th {\n",
       "        text-align: right;\n",
       "    }\n",
       "</style>\n",
       "<table border=\"1\" class=\"dataframe\">\n",
       "  <thead>\n",
       "    <tr style=\"text-align: right;\">\n",
       "      <th></th>\n",
       "      <th>eid</th>\n",
       "      <th>event</th>\n",
       "      <th>time_to_event</th>\n",
       "      <th>mean_time_to_event</th>\n",
       "      <th>std_time_to_event</th>\n",
       "      <th>num_events</th>\n",
       "    </tr>\n",
       "  </thead>\n",
       "  <tbody>\n",
       "    <tr>\n",
       "      <th>0</th>\n",
       "      <td>1007079</td>\n",
       "      <td>1</td>\n",
       "      <td>1137.0</td>\n",
       "      <td>1090.388672</td>\n",
       "      <td>651.952205</td>\n",
       "      <td>1536</td>\n",
       "    </tr>\n",
       "    <tr>\n",
       "      <th>1</th>\n",
       "      <td>1009727</td>\n",
       "      <td>1</td>\n",
       "      <td>367.0</td>\n",
       "      <td>1090.388672</td>\n",
       "      <td>651.952205</td>\n",
       "      <td>1536</td>\n",
       "    </tr>\n",
       "    <tr>\n",
       "      <th>2</th>\n",
       "      <td>1013241</td>\n",
       "      <td>1</td>\n",
       "      <td>1154.0</td>\n",
       "      <td>1090.388672</td>\n",
       "      <td>651.952205</td>\n",
       "      <td>1536</td>\n",
       "    </tr>\n",
       "    <tr>\n",
       "      <th>3</th>\n",
       "      <td>1013997</td>\n",
       "      <td>1</td>\n",
       "      <td>592.0</td>\n",
       "      <td>1090.388672</td>\n",
       "      <td>651.952205</td>\n",
       "      <td>1536</td>\n",
       "    </tr>\n",
       "    <tr>\n",
       "      <th>4</th>\n",
       "      <td>1015484</td>\n",
       "      <td>1</td>\n",
       "      <td>2128.0</td>\n",
       "      <td>1090.388672</td>\n",
       "      <td>651.952205</td>\n",
       "      <td>1536</td>\n",
       "    </tr>\n",
       "    <tr>\n",
       "      <th>...</th>\n",
       "      <td>...</td>\n",
       "      <td>...</td>\n",
       "      <td>...</td>\n",
       "      <td>...</td>\n",
       "      <td>...</td>\n",
       "      <td>...</td>\n",
       "    </tr>\n",
       "    <tr>\n",
       "      <th>3016</th>\n",
       "      <td>5992177</td>\n",
       "      <td>0</td>\n",
       "      <td>1648.0</td>\n",
       "      <td>1503.952590</td>\n",
       "      <td>592.340432</td>\n",
       "      <td>1139</td>\n",
       "    </tr>\n",
       "    <tr>\n",
       "      <th>3017</th>\n",
       "      <td>5998769</td>\n",
       "      <td>0</td>\n",
       "      <td>1649.0</td>\n",
       "      <td>1503.952590</td>\n",
       "      <td>592.340432</td>\n",
       "      <td>1139</td>\n",
       "    </tr>\n",
       "    <tr>\n",
       "      <th>3018</th>\n",
       "      <td>6015621</td>\n",
       "      <td>0</td>\n",
       "      <td>1540.0</td>\n",
       "      <td>1503.952590</td>\n",
       "      <td>592.340432</td>\n",
       "      <td>1139</td>\n",
       "    </tr>\n",
       "    <tr>\n",
       "      <th>3019</th>\n",
       "      <td>6021657</td>\n",
       "      <td>0</td>\n",
       "      <td>1745.0</td>\n",
       "      <td>1503.952590</td>\n",
       "      <td>592.340432</td>\n",
       "      <td>1139</td>\n",
       "    </tr>\n",
       "    <tr>\n",
       "      <th>3020</th>\n",
       "      <td>6023125</td>\n",
       "      <td>0</td>\n",
       "      <td>1357.0</td>\n",
       "      <td>1503.952590</td>\n",
       "      <td>592.340432</td>\n",
       "      <td>1139</td>\n",
       "    </tr>\n",
       "  </tbody>\n",
       "</table>\n",
       "<p>3021 rows × 6 columns</p>\n",
       "</div>"
      ],
      "text/plain": [
       "          eid  event  time_to_event  mean_time_to_event  std_time_to_event  \\\n",
       "0     1007079      1         1137.0         1090.388672         651.952205   \n",
       "1     1009727      1          367.0         1090.388672         651.952205   \n",
       "2     1013241      1         1154.0         1090.388672         651.952205   \n",
       "3     1013997      1          592.0         1090.388672         651.952205   \n",
       "4     1015484      1         2128.0         1090.388672         651.952205   \n",
       "...       ...    ...            ...                 ...                ...   \n",
       "3016  5992177      0         1648.0         1503.952590         592.340432   \n",
       "3017  5998769      0         1649.0         1503.952590         592.340432   \n",
       "3018  6015621      0         1540.0         1503.952590         592.340432   \n",
       "3019  6021657      0         1745.0         1503.952590         592.340432   \n",
       "3020  6023125      0         1357.0         1503.952590         592.340432   \n",
       "\n",
       "      num_events  \n",
       "0           1536  \n",
       "1           1536  \n",
       "2           1536  \n",
       "3           1536  \n",
       "4           1536  \n",
       "...          ...  \n",
       "3016        1139  \n",
       "3017        1139  \n",
       "3018        1139  \n",
       "3019        1139  \n",
       "3020        1139  \n",
       "\n",
       "[3021 rows x 6 columns]"
      ]
     },
     "execution_count": 6,
     "metadata": {},
     "output_type": "execute_result"
    }
   ],
   "source": [
    "df"
   ]
  },
  {
   "cell_type": "code",
   "execution_count": 2,
   "metadata": {},
   "outputs": [],
   "source": [
    "# Change this to analyze other datasets result\n",
    "dataset = 'FRAMINGHAM' \n",
    "group_selection = 'sex' # For FRAMINGHAM, a more detailed analysis"
   ]
  },
  {
   "cell_type": "code",
   "execution_count": 43,
   "metadata": {},
   "outputs": [],
   "source": [
    "# structural cardiac radiomics\n",
    "structural_cardiac_radiomics = ['LVEDV (mL)', 'RVEDV (mL)',\n",
    "       'LAV max (mL)', 'LAV min (mL)', 'RAV max (mL)',\n",
    "       'RAV min (mL)', 'AAo max area (mm²)',\n",
    "       'AAo min area (mm²)', 'DAo max area (mm²)', 'DAo min area (mm²)',\n",
    "       'WT_AHA_1 (mm)', 'WT_AHA_2 (mm)', 'WT_AHA_3 (mm)', 'WT_AHA_4 (mm)',\n",
    "       'WT_AHA_5 (mm)', 'WT_AHA_6 (mm)', 'WT_AHA_7 (mm)', 'WT_AHA_8 (mm)',\n",
    "       'WT_AHA_9 (mm)', 'WT_AHA_10 (mm)', 'WT_AHA_11 (mm)', 'WT_AHA_12 (mm)',\n",
    "       'WT_AHA_13 (mm)', 'WT_AHA_14 (mm)', 'WT_AHA_15 (mm)', 'WT_AHA_16 (mm)',\n",
    "       'WT_Global (mm)'] + [\"eid\"]\n",
    "\n",
    "df = pd.read_csv(\"/home/dmitrii/GitHub/NeuralFineGray/data/datasets/labels/cvd_diabetes_copd_ckd_3m_unspec/cardiac_radiomics.csv\")\n",
    "# take only structural_cardiac_radiomics\n",
    "df = df[structural_cardiac_radiomics]\n",
    "df.to_csv(\"/home/dmitrii/GitHub/NeuralFineGray/data/datasets/labels/cvd_diabetes_copd_ckd_3m_unspec/cardiac_radiomics_structural_only.csv\", index=False)"
   ]
  },
  {
   "cell_type": "code",
   "execution_count": null,
   "metadata": {},
   "outputs": [],
   "source": []
  },
  {
   "cell_type": "code",
   "execution_count": 63,
   "metadata": {},
   "outputs": [],
   "source": [
    "dataset = \"CARDIAC_WB_EMBEDDINGS+EMBEDDINGS\"\n",
    "group_selection = None"
   ]
  },
  {
   "cell_type": "code",
   "execution_count": 3,
   "metadata": {},
   "outputs": [
    {
     "name": "stdout",
     "output_type": "stream",
     "text": [
      "Raw shape: (3021, 1026)\n",
      "Dropped 0 low-variance columns\n",
      "Found ['feature_590'] highly correlated columns with |r| > 0.95\n",
      "Dropped 1 highly correlated columns\n"
     ]
    },
    {
     "ename": "KeyboardInterrupt",
     "evalue": "",
     "output_type": "error",
     "traceback": [
      "\u001b[0;31m---------------------------------------------------------------------------\u001b[0m",
      "\u001b[0;31mKeyboardInterrupt\u001b[0m                         Traceback (most recent call last)",
      "Cell \u001b[0;32mIn[3], line 56\u001b[0m\n\u001b[1;32m     51\u001b[0m df \u001b[38;5;241m=\u001b[39m df\u001b[38;5;241m.\u001b[39mdrop(columns\u001b[38;5;241m=\u001b[39mhighcorr_cols)\n\u001b[1;32m     53\u001b[0m \u001b[38;5;66;03m# ------------------------------------------------------------------\u001b[39;00m\n\u001b[1;32m     54\u001b[0m \u001b[38;5;66;03m# 3)  Save cleaned file\u001b[39;00m\n\u001b[1;32m     55\u001b[0m \u001b[38;5;66;03m# ------------------------------------------------------------------\u001b[39;00m\n\u001b[0;32m---> 56\u001b[0m \u001b[43mdf\u001b[49m\u001b[38;5;241;43m.\u001b[39;49m\u001b[43mto_csv\u001b[49m\u001b[43m(\u001b[49m\u001b[43mOUT_FILE\u001b[49m\u001b[43m,\u001b[49m\u001b[43m \u001b[49m\u001b[43mindex\u001b[49m\u001b[38;5;241;43m=\u001b[39;49m\u001b[38;5;28;43;01mFalse\u001b[39;49;00m\u001b[43m)\u001b[49m\n\u001b[1;32m     57\u001b[0m \u001b[38;5;28mprint\u001b[39m(\u001b[38;5;124mf\u001b[39m\u001b[38;5;124m\"\u001b[39m\u001b[38;5;124mClean shape: \u001b[39m\u001b[38;5;132;01m{\u001b[39;00mdf\u001b[38;5;241m.\u001b[39mshape\u001b[38;5;132;01m}\u001b[39;00m\u001b[38;5;124m\"\u001b[39m)\n\u001b[1;32m     58\u001b[0m \u001b[38;5;28mprint\u001b[39m(\u001b[38;5;124mf\u001b[39m\u001b[38;5;124m\"\u001b[39m\u001b[38;5;124mSaved  →  \u001b[39m\u001b[38;5;132;01m{\u001b[39;00mOUT_FILE\u001b[38;5;132;01m}\u001b[39;00m\u001b[38;5;124m\"\u001b[39m)\n",
      "File \u001b[0;32m~/miniconda3/envs/ukbb/lib/python3.10/site-packages/pandas/core/generic.py:3902\u001b[0m, in \u001b[0;36mNDFrame.to_csv\u001b[0;34m(self, path_or_buf, sep, na_rep, float_format, columns, header, index, index_label, mode, encoding, compression, quoting, quotechar, lineterminator, chunksize, date_format, doublequote, escapechar, decimal, errors, storage_options)\u001b[0m\n\u001b[1;32m   3891\u001b[0m df \u001b[38;5;241m=\u001b[39m \u001b[38;5;28mself\u001b[39m \u001b[38;5;28;01mif\u001b[39;00m \u001b[38;5;28misinstance\u001b[39m(\u001b[38;5;28mself\u001b[39m, ABCDataFrame) \u001b[38;5;28;01melse\u001b[39;00m \u001b[38;5;28mself\u001b[39m\u001b[38;5;241m.\u001b[39mto_frame()\n\u001b[1;32m   3893\u001b[0m formatter \u001b[38;5;241m=\u001b[39m DataFrameFormatter(\n\u001b[1;32m   3894\u001b[0m     frame\u001b[38;5;241m=\u001b[39mdf,\n\u001b[1;32m   3895\u001b[0m     header\u001b[38;5;241m=\u001b[39mheader,\n\u001b[0;32m   (...)\u001b[0m\n\u001b[1;32m   3899\u001b[0m     decimal\u001b[38;5;241m=\u001b[39mdecimal,\n\u001b[1;32m   3900\u001b[0m )\n\u001b[0;32m-> 3902\u001b[0m \u001b[38;5;28;01mreturn\u001b[39;00m \u001b[43mDataFrameRenderer\u001b[49m\u001b[43m(\u001b[49m\u001b[43mformatter\u001b[49m\u001b[43m)\u001b[49m\u001b[38;5;241;43m.\u001b[39;49m\u001b[43mto_csv\u001b[49m\u001b[43m(\u001b[49m\n\u001b[1;32m   3903\u001b[0m \u001b[43m    \u001b[49m\u001b[43mpath_or_buf\u001b[49m\u001b[43m,\u001b[49m\n\u001b[1;32m   3904\u001b[0m \u001b[43m    \u001b[49m\u001b[43mlineterminator\u001b[49m\u001b[38;5;241;43m=\u001b[39;49m\u001b[43mlineterminator\u001b[49m\u001b[43m,\u001b[49m\n\u001b[1;32m   3905\u001b[0m \u001b[43m    \u001b[49m\u001b[43msep\u001b[49m\u001b[38;5;241;43m=\u001b[39;49m\u001b[43msep\u001b[49m\u001b[43m,\u001b[49m\n\u001b[1;32m   3906\u001b[0m \u001b[43m    \u001b[49m\u001b[43mencoding\u001b[49m\u001b[38;5;241;43m=\u001b[39;49m\u001b[43mencoding\u001b[49m\u001b[43m,\u001b[49m\n\u001b[1;32m   3907\u001b[0m \u001b[43m    \u001b[49m\u001b[43merrors\u001b[49m\u001b[38;5;241;43m=\u001b[39;49m\u001b[43merrors\u001b[49m\u001b[43m,\u001b[49m\n\u001b[1;32m   3908\u001b[0m \u001b[43m    \u001b[49m\u001b[43mcompression\u001b[49m\u001b[38;5;241;43m=\u001b[39;49m\u001b[43mcompression\u001b[49m\u001b[43m,\u001b[49m\n\u001b[1;32m   3909\u001b[0m \u001b[43m    \u001b[49m\u001b[43mquoting\u001b[49m\u001b[38;5;241;43m=\u001b[39;49m\u001b[43mquoting\u001b[49m\u001b[43m,\u001b[49m\n\u001b[1;32m   3910\u001b[0m \u001b[43m    \u001b[49m\u001b[43mcolumns\u001b[49m\u001b[38;5;241;43m=\u001b[39;49m\u001b[43mcolumns\u001b[49m\u001b[43m,\u001b[49m\n\u001b[1;32m   3911\u001b[0m \u001b[43m    \u001b[49m\u001b[43mindex_label\u001b[49m\u001b[38;5;241;43m=\u001b[39;49m\u001b[43mindex_label\u001b[49m\u001b[43m,\u001b[49m\n\u001b[1;32m   3912\u001b[0m \u001b[43m    \u001b[49m\u001b[43mmode\u001b[49m\u001b[38;5;241;43m=\u001b[39;49m\u001b[43mmode\u001b[49m\u001b[43m,\u001b[49m\n\u001b[1;32m   3913\u001b[0m \u001b[43m    \u001b[49m\u001b[43mchunksize\u001b[49m\u001b[38;5;241;43m=\u001b[39;49m\u001b[43mchunksize\u001b[49m\u001b[43m,\u001b[49m\n\u001b[1;32m   3914\u001b[0m \u001b[43m    \u001b[49m\u001b[43mquotechar\u001b[49m\u001b[38;5;241;43m=\u001b[39;49m\u001b[43mquotechar\u001b[49m\u001b[43m,\u001b[49m\n\u001b[1;32m   3915\u001b[0m \u001b[43m    \u001b[49m\u001b[43mdate_format\u001b[49m\u001b[38;5;241;43m=\u001b[39;49m\u001b[43mdate_format\u001b[49m\u001b[43m,\u001b[49m\n\u001b[1;32m   3916\u001b[0m \u001b[43m    \u001b[49m\u001b[43mdoublequote\u001b[49m\u001b[38;5;241;43m=\u001b[39;49m\u001b[43mdoublequote\u001b[49m\u001b[43m,\u001b[49m\n\u001b[1;32m   3917\u001b[0m \u001b[43m    \u001b[49m\u001b[43mescapechar\u001b[49m\u001b[38;5;241;43m=\u001b[39;49m\u001b[43mescapechar\u001b[49m\u001b[43m,\u001b[49m\n\u001b[1;32m   3918\u001b[0m \u001b[43m    \u001b[49m\u001b[43mstorage_options\u001b[49m\u001b[38;5;241;43m=\u001b[39;49m\u001b[43mstorage_options\u001b[49m\u001b[43m,\u001b[49m\n\u001b[1;32m   3919\u001b[0m \u001b[43m\u001b[49m\u001b[43m)\u001b[49m\n",
      "File \u001b[0;32m~/miniconda3/envs/ukbb/lib/python3.10/site-packages/pandas/io/formats/format.py:1152\u001b[0m, in \u001b[0;36mDataFrameRenderer.to_csv\u001b[0;34m(self, path_or_buf, encoding, sep, columns, index_label, mode, compression, quoting, quotechar, lineterminator, chunksize, date_format, doublequote, escapechar, errors, storage_options)\u001b[0m\n\u001b[1;32m   1131\u001b[0m     created_buffer \u001b[38;5;241m=\u001b[39m \u001b[38;5;28;01mFalse\u001b[39;00m\n\u001b[1;32m   1133\u001b[0m csv_formatter \u001b[38;5;241m=\u001b[39m CSVFormatter(\n\u001b[1;32m   1134\u001b[0m     path_or_buf\u001b[38;5;241m=\u001b[39mpath_or_buf,\n\u001b[1;32m   1135\u001b[0m     lineterminator\u001b[38;5;241m=\u001b[39mlineterminator,\n\u001b[0;32m   (...)\u001b[0m\n\u001b[1;32m   1150\u001b[0m     formatter\u001b[38;5;241m=\u001b[39m\u001b[38;5;28mself\u001b[39m\u001b[38;5;241m.\u001b[39mfmt,\n\u001b[1;32m   1151\u001b[0m )\n\u001b[0;32m-> 1152\u001b[0m \u001b[43mcsv_formatter\u001b[49m\u001b[38;5;241;43m.\u001b[39;49m\u001b[43msave\u001b[49m\u001b[43m(\u001b[49m\u001b[43m)\u001b[49m\n\u001b[1;32m   1154\u001b[0m \u001b[38;5;28;01mif\u001b[39;00m created_buffer:\n\u001b[1;32m   1155\u001b[0m     \u001b[38;5;28;01massert\u001b[39;00m \u001b[38;5;28misinstance\u001b[39m(path_or_buf, StringIO)\n",
      "File \u001b[0;32m~/miniconda3/envs/ukbb/lib/python3.10/site-packages/pandas/io/formats/csvs.py:266\u001b[0m, in \u001b[0;36mCSVFormatter.save\u001b[0;34m(self)\u001b[0m\n\u001b[1;32m    247\u001b[0m \u001b[38;5;28;01mwith\u001b[39;00m get_handle(\n\u001b[1;32m    248\u001b[0m     \u001b[38;5;28mself\u001b[39m\u001b[38;5;241m.\u001b[39mfilepath_or_buffer,\n\u001b[1;32m    249\u001b[0m     \u001b[38;5;28mself\u001b[39m\u001b[38;5;241m.\u001b[39mmode,\n\u001b[0;32m   (...)\u001b[0m\n\u001b[1;32m    254\u001b[0m ) \u001b[38;5;28;01mas\u001b[39;00m handles:\n\u001b[1;32m    255\u001b[0m     \u001b[38;5;66;03m# Note: self.encoding is irrelevant here\u001b[39;00m\n\u001b[1;32m    256\u001b[0m     \u001b[38;5;28mself\u001b[39m\u001b[38;5;241m.\u001b[39mwriter \u001b[38;5;241m=\u001b[39m csvlib\u001b[38;5;241m.\u001b[39mwriter(\n\u001b[1;32m    257\u001b[0m         handles\u001b[38;5;241m.\u001b[39mhandle,\n\u001b[1;32m    258\u001b[0m         lineterminator\u001b[38;5;241m=\u001b[39m\u001b[38;5;28mself\u001b[39m\u001b[38;5;241m.\u001b[39mlineterminator,\n\u001b[0;32m   (...)\u001b[0m\n\u001b[1;32m    263\u001b[0m         quotechar\u001b[38;5;241m=\u001b[39m\u001b[38;5;28mself\u001b[39m\u001b[38;5;241m.\u001b[39mquotechar,\n\u001b[1;32m    264\u001b[0m     )\n\u001b[0;32m--> 266\u001b[0m     \u001b[38;5;28;43mself\u001b[39;49m\u001b[38;5;241;43m.\u001b[39;49m\u001b[43m_save\u001b[49m\u001b[43m(\u001b[49m\u001b[43m)\u001b[49m\n",
      "File \u001b[0;32m~/miniconda3/envs/ukbb/lib/python3.10/site-packages/pandas/io/formats/csvs.py:271\u001b[0m, in \u001b[0;36mCSVFormatter._save\u001b[0;34m(self)\u001b[0m\n\u001b[1;32m    269\u001b[0m \u001b[38;5;28;01mif\u001b[39;00m \u001b[38;5;28mself\u001b[39m\u001b[38;5;241m.\u001b[39m_need_to_save_header:\n\u001b[1;32m    270\u001b[0m     \u001b[38;5;28mself\u001b[39m\u001b[38;5;241m.\u001b[39m_save_header()\n\u001b[0;32m--> 271\u001b[0m \u001b[38;5;28;43mself\u001b[39;49m\u001b[38;5;241;43m.\u001b[39;49m\u001b[43m_save_body\u001b[49m\u001b[43m(\u001b[49m\u001b[43m)\u001b[49m\n",
      "File \u001b[0;32m~/miniconda3/envs/ukbb/lib/python3.10/site-packages/pandas/io/formats/csvs.py:309\u001b[0m, in \u001b[0;36mCSVFormatter._save_body\u001b[0;34m(self)\u001b[0m\n\u001b[1;32m    307\u001b[0m \u001b[38;5;28;01mif\u001b[39;00m start_i \u001b[38;5;241m>\u001b[39m\u001b[38;5;241m=\u001b[39m end_i:\n\u001b[1;32m    308\u001b[0m     \u001b[38;5;28;01mbreak\u001b[39;00m\n\u001b[0;32m--> 309\u001b[0m \u001b[38;5;28;43mself\u001b[39;49m\u001b[38;5;241;43m.\u001b[39;49m\u001b[43m_save_chunk\u001b[49m\u001b[43m(\u001b[49m\u001b[43mstart_i\u001b[49m\u001b[43m,\u001b[49m\u001b[43m \u001b[49m\u001b[43mend_i\u001b[49m\u001b[43m)\u001b[49m\n",
      "File \u001b[0;32m~/miniconda3/envs/ukbb/lib/python3.10/site-packages/pandas/io/formats/csvs.py:320\u001b[0m, in \u001b[0;36mCSVFormatter._save_chunk\u001b[0;34m(self, start_i, end_i)\u001b[0m\n\u001b[1;32m    317\u001b[0m data \u001b[38;5;241m=\u001b[39m [res\u001b[38;5;241m.\u001b[39miget_values(i) \u001b[38;5;28;01mfor\u001b[39;00m i \u001b[38;5;129;01min\u001b[39;00m \u001b[38;5;28mrange\u001b[39m(\u001b[38;5;28mlen\u001b[39m(res\u001b[38;5;241m.\u001b[39mitems))]\n\u001b[1;32m    319\u001b[0m ix \u001b[38;5;241m=\u001b[39m \u001b[38;5;28mself\u001b[39m\u001b[38;5;241m.\u001b[39mdata_index[slicer]\u001b[38;5;241m.\u001b[39m_format_native_types(\u001b[38;5;241m*\u001b[39m\u001b[38;5;241m*\u001b[39m\u001b[38;5;28mself\u001b[39m\u001b[38;5;241m.\u001b[39m_number_format)\n\u001b[0;32m--> 320\u001b[0m \u001b[43mlibwriters\u001b[49m\u001b[38;5;241;43m.\u001b[39;49m\u001b[43mwrite_csv_rows\u001b[49m\u001b[43m(\u001b[49m\n\u001b[1;32m    321\u001b[0m \u001b[43m    \u001b[49m\u001b[43mdata\u001b[49m\u001b[43m,\u001b[49m\n\u001b[1;32m    322\u001b[0m \u001b[43m    \u001b[49m\u001b[43mix\u001b[49m\u001b[43m,\u001b[49m\n\u001b[1;32m    323\u001b[0m \u001b[43m    \u001b[49m\u001b[38;5;28;43mself\u001b[39;49m\u001b[38;5;241;43m.\u001b[39;49m\u001b[43mnlevels\u001b[49m\u001b[43m,\u001b[49m\n\u001b[1;32m    324\u001b[0m \u001b[43m    \u001b[49m\u001b[38;5;28;43mself\u001b[39;49m\u001b[38;5;241;43m.\u001b[39;49m\u001b[43mcols\u001b[49m\u001b[43m,\u001b[49m\n\u001b[1;32m    325\u001b[0m \u001b[43m    \u001b[49m\u001b[38;5;28;43mself\u001b[39;49m\u001b[38;5;241;43m.\u001b[39;49m\u001b[43mwriter\u001b[49m\u001b[43m,\u001b[49m\n\u001b[1;32m    326\u001b[0m \u001b[43m\u001b[49m\u001b[43m)\u001b[49m\n",
      "File \u001b[0;32mwriters.pyx:75\u001b[0m, in \u001b[0;36mpandas._libs.writers.write_csv_rows\u001b[0;34m()\u001b[0m\n",
      "\u001b[0;31mKeyboardInterrupt\u001b[0m: "
     ]
    }
   ],
   "source": [
    "import pandas as pd\n",
    "import numpy as np\n",
    "\n",
    "# ------------------------------------------------------------------\n",
    "# Parameters you might want to tweak\n",
    "# ------------------------------------------------------------------\n",
    "VAR_THRESHOLD   = 1e-4      #   0.0001 after min-max scaling to [0,1]\n",
    "CORR_THRESHOLD  = 0.95      # |r| > 0.95   →   drop the 2nd column\n",
    "\n",
    "# ------------------------------------------------------------------\n",
    "# File locations\n",
    "# ------------------------------------------------------------------\n",
    "IN_FILE  = \"/home/dmitrii/GitHub/NeuralFineGray/data/datasets/labels/cvd_diabetes_copd_ckd_3m_unspec/embeddings_cls.csv\"\n",
    "OUT_FILE = \"/home/dmitrii/GitHub/NeuralFineGray/data/datasets/labels/cvd_diabetes_copd_ckd_3m_unspec/embeddings_noVarNoCorr.csv\"\n",
    "\n",
    "# ------------------------------------------------------------------\n",
    "# 0)  Read raw data\n",
    "# ------------------------------------------------------------------\n",
    "df = pd.read_csv(IN_FILE)\n",
    "print(f\"Raw shape: {df.shape}\")\n",
    "\n",
    "# Select only the embedding columns  (everything that is purely numeric):\n",
    "feats = df.select_dtypes(include=[np.number]).columns\n",
    "\n",
    "# ------------------------------------------------------------------\n",
    "# 1)  Low-variance filter  (after temporary min-max scaling)\n",
    "# ------------------------------------------------------------------\n",
    "X = df[feats].copy()\n",
    "\n",
    "# Min-max scale to [0,1] column-wise (without touching the original df)\n",
    "rng = X.max() - X.min()\n",
    "rng_replaced = rng.replace(0, 1)          # avoid division by zero\n",
    "X_scaled = (X - X.min()) / rng_replaced\n",
    "\n",
    "lowvar_cols = X_scaled.var()[X_scaled.var() < VAR_THRESHOLD].index.tolist()\n",
    "print(f\"Dropped {len(lowvar_cols)} low-variance columns\")\n",
    "\n",
    "df = df.drop(columns=lowvar_cols)         # drop from *raw* data\n",
    "\n",
    "# ------------------------------------------------------------------\n",
    "# 2)  High-correlation filter\n",
    "# ------------------------------------------------------------------\n",
    "corr_matrix = df[feats.difference(lowvar_cols)].corr().abs()\n",
    "upper_mask  = np.triu(np.ones(corr_matrix.shape), k=1).astype(bool)\n",
    "upper       = corr_matrix.where(upper_mask)\n",
    "\n",
    "highcorr_cols = [c for c in upper.columns if any(upper[c] > CORR_THRESHOLD)]\n",
    "print(f\"Found {highcorr_cols} highly correlated columns with |r| > {CORR_THRESHOLD}\")\n",
    "print(f\"Dropped {len(highcorr_cols)} highly correlated columns\")\n",
    "\n",
    "df = df.drop(columns=highcorr_cols)\n",
    "\n",
    "# ------------------------------------------------------------------\n",
    "# 3)  Save cleaned file\n",
    "# ------------------------------------------------------------------\n",
    "df.to_csv(OUT_FILE, index=False)\n",
    "print(f\"Clean shape: {df.shape}\")\n",
    "print(f\"Saved  →  {OUT_FILE}\")\n"
   ]
  },
  {
   "cell_type": "code",
   "execution_count": 64,
   "metadata": {},
   "outputs": [
    {
     "name": "stdout",
     "output_type": "stream",
     "text": [
      "Number of rows with NaN: 339\n",
      "Number of rows with NaN after filling: 0\n",
      "covariate shape (2675, 2050)\n",
      "duration shape (2675,)\n",
      "event shape (2675,)\n",
      "Number of events: 3\n"
     ]
    }
   ],
   "source": [
    "path = '../Results_04.06/' # Path where the data is saved\n",
    "x, t, e, cNCriates = datasets.load_dataset(dataset, path = '../', competing = True, normalize = False) # Open the data\n",
    "num_events = len(np.unique(e)) - 1\n",
    "print('Number of events:', num_events)"
   ]
  },
  {
   "cell_type": "code",
   "execution_count": 65,
   "metadata": {},
   "outputs": [],
   "source": [
    "horizons = [0.25, 0.5, 0.75] # Horizons to evaluate the models\n",
    "times_eval = np.quantile(t[e > 0], horizons)"
   ]
  },
  {
   "cell_type": "code",
   "execution_count": 66,
   "metadata": {},
   "outputs": [],
   "source": [
    "from pycox.evaluation import EvalSurv\n",
    "from sksurv.metrics import concordance_index_ipcw, brier_score, cumulative_dynamic_auc, integrated_brier_score\n",
    "from metrics import truncated_concordance_td, auc_td, brier_score as bs\n",
    "\n",
    "### Utils: The evaluatino metrics used\n",
    "def evaluate(survival, e = e, t = t, groups = None, times_eval = []):\n",
    "    folds = survival.iloc[:, -1].values\n",
    "    survival = survival.iloc[:, :-1]\n",
    "    survival.columns = pd.MultiIndex.from_frame(pd.DataFrame(index=survival.columns).reset_index().astype(float))\n",
    "    \n",
    "    times = survival.columns.get_level_values(1).unique()\n",
    "    results = {}\n",
    "\n",
    "    # If multiple risk, compute cause specific metrics\n",
    "    for r in survival.columns.get_level_values(0).unique():\n",
    "        for fold in np.arange(5):\n",
    "            res = {}\n",
    "            e_train, t_train = e[folds != fold], t[folds != fold]\n",
    "            e_test,  t_test  = e[folds == fold], t[folds == fold]\n",
    "            g_train, g_test = (None, None) if groups is None else (groups[folds != fold], groups[folds == fold])            \n",
    "\n",
    "            survival_train = survival[folds != fold][r]\n",
    "            survival_fold = survival[folds == fold][r]\n",
    "\n",
    "            km = EvalSurv(survival_train.T, t_train, e_train != 0, censor_surv = 'km')\n",
    "            test_eval = EvalSurv(survival_fold.T, t_test, e_test == int(r), censor_surv = km)\n",
    "\n",
    "            res['Overall'] = {\n",
    "                    \"CIS\": test_eval.concordance_td(), \n",
    "                }\n",
    "            try:\n",
    "                res['Overall']['BRS'] = test_eval.integrated_brier_score(times.to_numpy())\n",
    "            except: pass\n",
    "\n",
    "            km = (e_train, t_train)\n",
    "            if len(times_eval) > 0:\n",
    "                for te in times_eval:\n",
    "                    try:\n",
    "                        ci, km = truncated_concordance_td(e_test, t_test, 1 - survival_fold.values, times, te, km = km, competing_risk = int(r))\n",
    "                        res[te] = {\n",
    "                            \"CIS\": ci,\n",
    "                            \"BRS\": bs(e_test, t_test, 1 - survival_fold.values, times, te, km = km, competing_risk = int(r))[0]}\n",
    "                    except:\n",
    "                        pass\n",
    "                \n",
    "                    for group in groups.unique() if groups is not None else []:\n",
    "                        try:\n",
    "                            km = (e_train[g_train == group], t_train[g_train == group])\n",
    "                            res[te][\"CIS_{}\".format(group)] = truncated_concordance_td(e_test[g_test == group], t_test[g_test == group], 1 - survival_fold[g_test == group].values, times, te, km = km, competing_risk = int(r))[0]\n",
    "                            res[te][\"BRS_{}\".format(group)] = bs(e_test[g_test == group], t_test[g_test == group], 1 - survival_fold[g_test == group].values, times, te, km = km, competing_risk = int(r))[0]\n",
    "\n",
    "                            km = (e_train[g_train != group], t_train[g_train != group])\n",
    "                            res[te][\"Delta_CIS_{}\".format(group)] = res[te][\"CIS_{}\".format(group)] - truncated_concordance_td(e_test[g_test != group], t_test[g_test != group], 1 - survival_fold[g_test != group].values, times, te, km = km, competing_risk = int(r))[0]\n",
    "                            res[te][\"Delta_BRS_{}\".format(group)] = res[te][\"BRS_{}\".format(group)] - bs(e_test[g_test != group], t_test[g_test != group], 1 - survival_fold[g_test != group].values, times, te, km = km, competing_risk = int(r))[0]\n",
    "                        \n",
    "                        except:\n",
    "                            pass\n",
    "            results[(r, fold)] = pd.DataFrame.from_dict(res)\n",
    "    results = pd.concat(results)\n",
    "    results.index.set_names(['Risk', 'Fold', 'Metric'], inplace = True)\n",
    "\n",
    "    return results"
   ]
  },
  {
   "cell_type": "code",
   "execution_count": 67,
   "metadata": {},
   "outputs": [],
   "source": [
    "from experiment import Experiment\n",
    "\n",
    "# To analyze group performance - We did this only for FRAMINGHAM\n",
    "if dataset == \"FRAMINGHAM\":\n",
    "    if group_selection == 'sex':\n",
    "        groups = pd.DataFrame(x, columns = cNCriates).SEX.replace({1: 'Male', 2: 'Female'})\n",
    "        print(groups.value_counts())\n",
    "        for g in groups.unique():\n",
    "            print(\"Group {} - Population {} - Outcome {:.2f}% - Censoring {:.2f}%\".format(g, (groups == g).sum(), 100 * (e[groups == g] == 1).mean(),\n",
    "                                                                                            100 * (e[groups == g] == 0).mean()))\n",
    "    else:\n",
    "        groups = pd.DataFrame(x, columns = cNCriates).AGE\n",
    "        groups = pd.cut(groups, [0, 40, 50, 60, 100], labels=[\"<40\", '40-50', \"50-60\", \"60+\"])\n",
    "        print(groups.value_counts())\n",
    "        for g in groups.unique().sort_values():\n",
    "            print(\"Group {} - Population {} - Outcome {:.2f}% - Censoring {:.2f}%\".format(g, (groups == g).sum(), 100 * (e[groups == g] == 2).mean(),\n",
    "                                                                                        100 * (e[groups == g] == 0).mean()))\n",
    "else:\n",
    "    groups = None"
   ]
  },
  {
   "cell_type": "code",
   "execution_count": 68,
   "metadata": {},
   "outputs": [
    {
     "name": "stdout",
     "output_type": "stream",
     "text": [
      "Opening : CARDIAC_WB_EMBEDDINGS+RADIOMICS_dsm_multi_encoders.csv  -  EMBEDDINGS+RADIOMICS_dsm_multi_encoders\n",
      "Opening : CARDIAC_WB_EMBEDDINGS+RADIOMICS_nfg_multi_encoders.csv  -  EMBEDDINGS+RADIOMICS_nfg_multi_encoders\n"
     ]
    }
   ],
   "source": [
    "# Open file and compute performance\n",
    "predictions, results, models = {}, {}, {}\n",
    "\n",
    "# \n",
    "for file_name in os.listdir(path):\n",
    "    #print(file_name)\n",
    "    #if ('cox' not in file_name ) and ('finegray' not in file_name): continue\n",
    "    #print(\"_\".join(file_name.split(\".\")[0].split(\"_\")[0:-1]))\n",
    "    if (\"multi_encoders\" in file_name) and (file_name.split(\".\")[-1] == 'csv') and (\"CARDIAC\" in file_name) and \"TABULAR\" not in file_name and \"RADIOMICS\" in file_name:\n",
    "    #if (\"_\".join(file_name.split(\".\")[0].split(\"_\")[0:-1]) == dataset) and file_name.split(\".\")[-1] == 'csv':# or file_name == 'ABDOMEN_EMBEDDINGS+RADIOMICS+TABULAR_nfg_multi_encoders.csv':\n",
    "    #    print(\"Opening :\", file_name)\n",
    "    #if dataset in file_name and '.csv' in file_name: \n",
    "        model = file_name       \n",
    "        #model = model[model.rindex('_') + 1: model.index('.')]\n",
    "        model = \"_\".join(model.split(\"_\")[2:])\n",
    "        model = model[:model.index('.')]\n",
    "        print(\"Opening :\", file_name, ' - ', model)\n",
    "        if 'finegray' in model or 'cox' in model:\n",
    "            continue\n",
    "            # Reinitialize index\n",
    "            predictions[model] = pd.read_csv(path + file_name, header = [0], index_col = 0).T.ffill().T\n",
    "            index = pd.DataFrame([[i, t] for i in tuple([str(ii) for ii in range(1, num_events+1)]) for t in predictions[model].columns[:100]] + [['Use', '']])\n",
    "            predictions[model].columns = pd.MultiIndex.from_frame(index)\n",
    "        else:\n",
    "            predictions[model] = pd.read_csv(path + file_name, header = [0, 1], index_col = 0)\n",
    "\n",
    "        results[model] = evaluate(predictions[model], groups = groups, times_eval = times_eval)\n",
    "\n",
    "        model_file = file_name[: file_name.index('.')] + '.pickle'\n",
    "        try:\n",
    "            models[model] = Experiment.load(path + model_file)\n",
    "        except:\n",
    "            pass\n",
    "\n",
    "# Rename\n",
    "# TODO: Add your method in the list for nicer display\n",
    "dict_name = {'nfg': 'NeuralFG', 'nfgcs': 'NeuralFG Non Competing', 'finegray': 'Fine Gray', 'dsm': 'DSM', 'dh': 'DeepHit', 'ds': 'DeSurv', 'coxcs': 'CS Cox',\n",
    "             'nfg_multi_encoders': 'NeuralFG Multi Encoders', 'nfgcs_multi_encoders': 'NeuralFG Non Competing Multi Encoders', 'finegray_multi_encoders': 'Fine Gray Multi Encoders', 'dsm_multi_encoders': 'DSM Multi Encoders', 'dh_multi_encoders': 'DeepHit Multi Encoders', 'ds_multi_encoders': 'DeSurv Multi Encoders', 'coxcs_multi_encoders': 'CS Cox Multi Encoders'} \n",
    "\n",
    "results = pd.concat(results).rename(dict_name)\n",
    "results.index.set_names('Model', level = 0, inplace = True)"
   ]
  },
  {
   "cell_type": "code",
   "execution_count": 10,
   "metadata": {},
   "outputs": [],
   "source": [
    "pred_df = pd.read_csv(\"/home/dmitrii/GitHub/NeuralFineGray/Results_test/ABDOMEN_TABULAR_nfg.csv\")"
   ]
  },
  {
   "cell_type": "code",
   "execution_count": 27,
   "metadata": {},
   "outputs": [
    {
     "ename": "KeyError",
     "evalue": "'dh'",
     "output_type": "error",
     "traceback": [
      "\u001b[0;31m---------------------------------------------------------------------------\u001b[0m",
      "\u001b[0;31mKeyError\u001b[0m                                  Traceback (most recent call last)",
      "Cell \u001b[0;32mIn[27], line 3\u001b[0m\n\u001b[1;32m      1\u001b[0m \u001b[38;5;66;03m# PLOT predictions[\"dsm\"][\"2\"] COLUMNS ARE THE TIMES AND ROWS ARE THE RISK\u001b[39;00m\n\u001b[1;32m      2\u001b[0m \u001b[38;5;28;01mimport\u001b[39;00m \u001b[38;5;21;01mmatplotlib\u001b[39;00m\u001b[38;5;21;01m.\u001b[39;00m\u001b[38;5;21;01mpyplot\u001b[39;00m \u001b[38;5;28;01mas\u001b[39;00m \u001b[38;5;21;01mplt\u001b[39;00m\n\u001b[0;32m----> 3\u001b[0m df_1 \u001b[38;5;241m=\u001b[39m \u001b[43mpredictions\u001b[49m\u001b[43m[\u001b[49m\u001b[38;5;124;43m\"\u001b[39;49m\u001b[38;5;124;43mdh\u001b[39;49m\u001b[38;5;124;43m\"\u001b[39;49m\u001b[43m]\u001b[49m[\u001b[38;5;124m\"\u001b[39m\u001b[38;5;124m2\u001b[39m\u001b[38;5;124m\"\u001b[39m]\u001b[38;5;241m.\u001b[39miloc[:\u001b[38;5;241m10\u001b[39m, :]\n\u001b[1;32m      4\u001b[0m x_values \u001b[38;5;241m=\u001b[39m df_1\u001b[38;5;241m.\u001b[39mcolumns\u001b[38;5;241m.\u001b[39mastype(\u001b[38;5;28mfloat\u001b[39m)\n\u001b[1;32m      5\u001b[0m \u001b[38;5;28;01mfor\u001b[39;00m i, row \u001b[38;5;129;01min\u001b[39;00m df_1\u001b[38;5;241m.\u001b[39miterrows():\n",
      "\u001b[0;31mKeyError\u001b[0m: 'dh'"
     ]
    }
   ],
   "source": [
    "# PLOT predictions[\"dsm\"][\"2\"] COLUMNS ARE THE TIMES AND ROWS ARE THE RISK\n",
    "import matplotlib.pyplot as plt\n",
    "df_1 = predictions[\"dh\"][\"2\"].iloc[:10, :]\n",
    "x_values = df_1.columns.astype(float)\n",
    "for i, row in df_1.iterrows():\n",
    "    plt.plot(x_values, row, label = e[i])\n",
    "plt.legend()\n",
    "plt.show()"
   ]
  },
  {
   "cell_type": "code",
   "execution_count": null,
   "metadata": {},
   "outputs": [],
   "source": [
    "# PLOT predictions[\"dsm\"][\"2\"] COLUMNS ARE THE TIMES AND ROWS ARE THE RISK\n",
    "from turtle import color\n",
    "import matplotlib.pyplot as plt\n",
    "# same as df_1 but last 10\n",
    "df_1 = predictions[\"dh\"][\"1\"].iloc[:100, :]\n",
    "df_2 = predictions[\"dh\"][\"1\"].iloc[-100:, :]\n",
    "x_values = df_1.columns.astype(float)\n",
    "for i, row in df_1.iterrows():\n",
    "    plt.plot(x_values, row, label = e[i], color = \"red\")\n",
    "for i, row in df_2.iterrows():\n",
    "    plt.plot(x_values, row, label = e[-i], color = \"blue\")\n",
    "plt.legend()\n",
    "plt.show()"
   ]
  },
  {
   "cell_type": "code",
   "execution_count": 62,
   "metadata": {},
   "outputs": [
    {
     "data": {
      "text/html": [
       "<div>\n",
       "<style scoped>\n",
       "    .dataframe tbody tr th:only-of-type {\n",
       "        vertical-align: middle;\n",
       "    }\n",
       "\n",
       "    .dataframe tbody tr th {\n",
       "        vertical-align: top;\n",
       "    }\n",
       "\n",
       "    .dataframe thead tr th {\n",
       "        text-align: left;\n",
       "    }\n",
       "\n",
       "    .dataframe thead tr:last-of-type th {\n",
       "        text-align: right;\n",
       "    }\n",
       "</style>\n",
       "<table border=\"1\" class=\"dataframe\">\n",
       "  <thead>\n",
       "    <tr>\n",
       "      <th></th>\n",
       "      <th>Metric</th>\n",
       "      <th colspan=\"4\" halign=\"left\">CIS</th>\n",
       "      <th colspan=\"4\" halign=\"left\">BRS</th>\n",
       "    </tr>\n",
       "    <tr>\n",
       "      <th></th>\n",
       "      <th></th>\n",
       "      <th>Overall</th>\n",
       "      <th>569.50000001</th>\n",
       "      <th>1015.00000001</th>\n",
       "      <th>1510.75000001</th>\n",
       "      <th>Overall</th>\n",
       "      <th>569.50000001</th>\n",
       "      <th>1015.00000001</th>\n",
       "      <th>1510.75000001</th>\n",
       "    </tr>\n",
       "    <tr>\n",
       "      <th>Risk</th>\n",
       "      <th>Model</th>\n",
       "      <th></th>\n",
       "      <th></th>\n",
       "      <th></th>\n",
       "      <th></th>\n",
       "      <th></th>\n",
       "      <th></th>\n",
       "      <th></th>\n",
       "      <th></th>\n",
       "    </tr>\n",
       "  </thead>\n",
       "  <tbody>\n",
       "    <tr>\n",
       "      <th rowspan=\"2\" valign=\"top\">1.0</th>\n",
       "      <th>EMBEDDINGS+RADIOMICS_dsm_multi_encoders</th>\n",
       "      <td>0.664 (0.028)</td>\n",
       "      <td>0.688 (0.037)</td>\n",
       "      <td>0.656 (0.022)</td>\n",
       "      <td>0.629 (0.042)</td>\n",
       "      <td>0.201 (0.016)</td>\n",
       "      <td>0.038 (0.007)</td>\n",
       "      <td>0.073 (0.007)</td>\n",
       "      <td>0.110 (0.003)</td>\n",
       "    </tr>\n",
       "    <tr>\n",
       "      <th>EMBEDDINGS+RADIOMICS_nfg_multi_encoders</th>\n",
       "      <td>0.647 (0.021)</td>\n",
       "      <td>0.663 (0.031)</td>\n",
       "      <td>0.637 (0.024)</td>\n",
       "      <td>0.615 (0.052)</td>\n",
       "      <td>0.237 (0.010)</td>\n",
       "      <td>0.038 (0.007)</td>\n",
       "      <td>0.072 (0.008)</td>\n",
       "      <td>0.110 (0.003)</td>\n",
       "    </tr>\n",
       "    <tr>\n",
       "      <th rowspan=\"2\" valign=\"top\">2.0</th>\n",
       "      <th>EMBEDDINGS+RADIOMICS_dsm_multi_encoders</th>\n",
       "      <td>0.674 (0.020)</td>\n",
       "      <td>0.673 (0.018)</td>\n",
       "      <td>0.673 (0.017)</td>\n",
       "      <td>0.666 (0.020)</td>\n",
       "      <td>0.151 (0.004)</td>\n",
       "      <td>0.084 (0.004)</td>\n",
       "      <td>0.153 (0.005)</td>\n",
       "      <td>0.213 (0.013)</td>\n",
       "    </tr>\n",
       "    <tr>\n",
       "      <th>EMBEDDINGS+RADIOMICS_nfg_multi_encoders</th>\n",
       "      <td>0.666 (0.015)</td>\n",
       "      <td>0.645 (0.025)</td>\n",
       "      <td>0.660 (0.015)</td>\n",
       "      <td>0.657 (0.019)</td>\n",
       "      <td>0.196 (0.006)</td>\n",
       "      <td>0.084 (0.006)</td>\n",
       "      <td>0.148 (0.013)</td>\n",
       "      <td>0.205 (0.008)</td>\n",
       "    </tr>\n",
       "    <tr>\n",
       "      <th rowspan=\"2\" valign=\"top\">3.0</th>\n",
       "      <th>EMBEDDINGS+RADIOMICS_dsm_multi_encoders</th>\n",
       "      <td>0.564 (0.098)</td>\n",
       "      <td>0.534 (0.121)</td>\n",
       "      <td>0.530 (0.115)</td>\n",
       "      <td>0.536 (0.116)</td>\n",
       "      <td>0.177 (0.012)</td>\n",
       "      <td>0.011 (0.003)</td>\n",
       "      <td>0.022 (0.004)</td>\n",
       "      <td>0.033 (0.004)</td>\n",
       "    </tr>\n",
       "    <tr>\n",
       "      <th>EMBEDDINGS+RADIOMICS_nfg_multi_encoders</th>\n",
       "      <td>0.579 (0.079)</td>\n",
       "      <td>0.575 (0.145)</td>\n",
       "      <td>0.543 (0.129)</td>\n",
       "      <td>0.545 (0.080)</td>\n",
       "      <td>0.178 (0.011)</td>\n",
       "      <td>0.011 (0.003)</td>\n",
       "      <td>0.022 (0.004)</td>\n",
       "      <td>0.033 (0.004)</td>\n",
       "    </tr>\n",
       "  </tbody>\n",
       "</table>\n",
       "</div>"
      ],
      "text/plain": [
       "Metric                                                  CIS                 \\\n",
       "                                                    Overall   569.50000001   \n",
       "Risk Model                                                                   \n",
       "1.0  EMBEDDINGS+RADIOMICS_dsm_multi_encoders  0.664 (0.028)  0.688 (0.037)   \n",
       "     EMBEDDINGS+RADIOMICS_nfg_multi_encoders  0.647 (0.021)  0.663 (0.031)   \n",
       "2.0  EMBEDDINGS+RADIOMICS_dsm_multi_encoders  0.674 (0.020)  0.673 (0.018)   \n",
       "     EMBEDDINGS+RADIOMICS_nfg_multi_encoders  0.666 (0.015)  0.645 (0.025)   \n",
       "3.0  EMBEDDINGS+RADIOMICS_dsm_multi_encoders  0.564 (0.098)  0.534 (0.121)   \n",
       "     EMBEDDINGS+RADIOMICS_nfg_multi_encoders  0.579 (0.079)  0.575 (0.145)   \n",
       "\n",
       "Metric                                                                      \\\n",
       "                                              1015.00000001  1510.75000001   \n",
       "Risk Model                                                                   \n",
       "1.0  EMBEDDINGS+RADIOMICS_dsm_multi_encoders  0.656 (0.022)  0.629 (0.042)   \n",
       "     EMBEDDINGS+RADIOMICS_nfg_multi_encoders  0.637 (0.024)  0.615 (0.052)   \n",
       "2.0  EMBEDDINGS+RADIOMICS_dsm_multi_encoders  0.673 (0.017)  0.666 (0.020)   \n",
       "     EMBEDDINGS+RADIOMICS_nfg_multi_encoders  0.660 (0.015)  0.657 (0.019)   \n",
       "3.0  EMBEDDINGS+RADIOMICS_dsm_multi_encoders  0.530 (0.115)  0.536 (0.116)   \n",
       "     EMBEDDINGS+RADIOMICS_nfg_multi_encoders  0.543 (0.129)  0.545 (0.080)   \n",
       "\n",
       "Metric                                                  BRS                 \\\n",
       "                                                    Overall   569.50000001   \n",
       "Risk Model                                                                   \n",
       "1.0  EMBEDDINGS+RADIOMICS_dsm_multi_encoders  0.201 (0.016)  0.038 (0.007)   \n",
       "     EMBEDDINGS+RADIOMICS_nfg_multi_encoders  0.237 (0.010)  0.038 (0.007)   \n",
       "2.0  EMBEDDINGS+RADIOMICS_dsm_multi_encoders  0.151 (0.004)  0.084 (0.004)   \n",
       "     EMBEDDINGS+RADIOMICS_nfg_multi_encoders  0.196 (0.006)  0.084 (0.006)   \n",
       "3.0  EMBEDDINGS+RADIOMICS_dsm_multi_encoders  0.177 (0.012)  0.011 (0.003)   \n",
       "     EMBEDDINGS+RADIOMICS_nfg_multi_encoders  0.178 (0.011)  0.011 (0.003)   \n",
       "\n",
       "Metric                                                                      \n",
       "                                              1015.00000001  1510.75000001  \n",
       "Risk Model                                                                  \n",
       "1.0  EMBEDDINGS+RADIOMICS_dsm_multi_encoders  0.073 (0.007)  0.110 (0.003)  \n",
       "     EMBEDDINGS+RADIOMICS_nfg_multi_encoders  0.072 (0.008)  0.110 (0.003)  \n",
       "2.0  EMBEDDINGS+RADIOMICS_dsm_multi_encoders  0.153 (0.005)  0.213 (0.013)  \n",
       "     EMBEDDINGS+RADIOMICS_nfg_multi_encoders  0.148 (0.013)  0.205 (0.008)  \n",
       "3.0  EMBEDDINGS+RADIOMICS_dsm_multi_encoders  0.022 (0.004)  0.033 (0.004)  \n",
       "     EMBEDDINGS+RADIOMICS_nfg_multi_encoders  0.022 (0.004)  0.033 (0.004)  "
      ]
     },
     "execution_count": 62,
     "metadata": {},
     "output_type": "execute_result"
    }
   ],
   "source": [
    "# Compute average performance across fold and models\n",
    "table = results.groupby(['Model', 'Risk', 'Metric']).apply(lambda x:  pd.Series([\"{:.3f} ({:.3f})\".format(mean, std) for mean, std in zip(x.mean(), x.std())], index = x.columns))\n",
    "table = table.unstack(level=-1).stack(level=0).unstack(level=-1).loc[:, ['CIS', 'BRS']]\n",
    "table = table.reorder_levels(['Risk', 'Model']).sort_index(level = 0, sort_remaining = False)\n",
    "\n",
    "table"
   ]
  },
  {
   "cell_type": "code",
   "execution_count": 69,
   "metadata": {},
   "outputs": [
    {
     "data": {
      "text/html": [
       "<div>\n",
       "<style scoped>\n",
       "    .dataframe tbody tr th:only-of-type {\n",
       "        vertical-align: middle;\n",
       "    }\n",
       "\n",
       "    .dataframe tbody tr th {\n",
       "        vertical-align: top;\n",
       "    }\n",
       "\n",
       "    .dataframe thead tr th {\n",
       "        text-align: left;\n",
       "    }\n",
       "\n",
       "    .dataframe thead tr:last-of-type th {\n",
       "        text-align: right;\n",
       "    }\n",
       "</style>\n",
       "<table border=\"1\" class=\"dataframe\">\n",
       "  <thead>\n",
       "    <tr>\n",
       "      <th></th>\n",
       "      <th>Metric</th>\n",
       "      <th colspan=\"4\" halign=\"left\">CIS</th>\n",
       "      <th colspan=\"4\" halign=\"left\">BRS</th>\n",
       "    </tr>\n",
       "    <tr>\n",
       "      <th></th>\n",
       "      <th></th>\n",
       "      <th>Overall</th>\n",
       "      <th>569.50000001</th>\n",
       "      <th>1015.00000001</th>\n",
       "      <th>1510.75000001</th>\n",
       "      <th>Overall</th>\n",
       "      <th>569.50000001</th>\n",
       "      <th>1015.00000001</th>\n",
       "      <th>1510.75000001</th>\n",
       "    </tr>\n",
       "    <tr>\n",
       "      <th>Risk</th>\n",
       "      <th>Model</th>\n",
       "      <th></th>\n",
       "      <th></th>\n",
       "      <th></th>\n",
       "      <th></th>\n",
       "      <th></th>\n",
       "      <th></th>\n",
       "      <th></th>\n",
       "      <th></th>\n",
       "    </tr>\n",
       "  </thead>\n",
       "  <tbody>\n",
       "    <tr>\n",
       "      <th rowspan=\"2\" valign=\"top\">1.0</th>\n",
       "      <th>EMBEDDINGS+RADIOMICS_dsm_multi_encoders</th>\n",
       "      <td>0.664 (0.028)</td>\n",
       "      <td>0.688 (0.037)</td>\n",
       "      <td>0.656 (0.022)</td>\n",
       "      <td>0.629 (0.042)</td>\n",
       "      <td>0.201 (0.016)</td>\n",
       "      <td>0.038 (0.007)</td>\n",
       "      <td>0.073 (0.007)</td>\n",
       "      <td>0.110 (0.003)</td>\n",
       "    </tr>\n",
       "    <tr>\n",
       "      <th>EMBEDDINGS+RADIOMICS_nfg_multi_encoders</th>\n",
       "      <td>0.647 (0.021)</td>\n",
       "      <td>0.663 (0.031)</td>\n",
       "      <td>0.637 (0.024)</td>\n",
       "      <td>0.615 (0.052)</td>\n",
       "      <td>0.237 (0.010)</td>\n",
       "      <td>0.038 (0.007)</td>\n",
       "      <td>0.072 (0.008)</td>\n",
       "      <td>0.110 (0.003)</td>\n",
       "    </tr>\n",
       "    <tr>\n",
       "      <th rowspan=\"2\" valign=\"top\">2.0</th>\n",
       "      <th>EMBEDDINGS+RADIOMICS_dsm_multi_encoders</th>\n",
       "      <td>0.674 (0.020)</td>\n",
       "      <td>0.673 (0.018)</td>\n",
       "      <td>0.673 (0.017)</td>\n",
       "      <td>0.666 (0.020)</td>\n",
       "      <td>0.151 (0.004)</td>\n",
       "      <td>0.084 (0.004)</td>\n",
       "      <td>0.153 (0.005)</td>\n",
       "      <td>0.213 (0.013)</td>\n",
       "    </tr>\n",
       "    <tr>\n",
       "      <th>EMBEDDINGS+RADIOMICS_nfg_multi_encoders</th>\n",
       "      <td>0.666 (0.015)</td>\n",
       "      <td>0.645 (0.025)</td>\n",
       "      <td>0.660 (0.015)</td>\n",
       "      <td>0.657 (0.019)</td>\n",
       "      <td>0.196 (0.006)</td>\n",
       "      <td>0.084 (0.006)</td>\n",
       "      <td>0.148 (0.013)</td>\n",
       "      <td>0.205 (0.008)</td>\n",
       "    </tr>\n",
       "    <tr>\n",
       "      <th rowspan=\"2\" valign=\"top\">3.0</th>\n",
       "      <th>EMBEDDINGS+RADIOMICS_dsm_multi_encoders</th>\n",
       "      <td>0.564 (0.098)</td>\n",
       "      <td>0.534 (0.121)</td>\n",
       "      <td>0.530 (0.115)</td>\n",
       "      <td>0.536 (0.116)</td>\n",
       "      <td>0.177 (0.012)</td>\n",
       "      <td>0.011 (0.003)</td>\n",
       "      <td>0.022 (0.004)</td>\n",
       "      <td>0.033 (0.004)</td>\n",
       "    </tr>\n",
       "    <tr>\n",
       "      <th>EMBEDDINGS+RADIOMICS_nfg_multi_encoders</th>\n",
       "      <td>0.579 (0.079)</td>\n",
       "      <td>0.575 (0.145)</td>\n",
       "      <td>0.543 (0.129)</td>\n",
       "      <td>0.545 (0.080)</td>\n",
       "      <td>0.178 (0.011)</td>\n",
       "      <td>0.011 (0.003)</td>\n",
       "      <td>0.022 (0.004)</td>\n",
       "      <td>0.033 (0.004)</td>\n",
       "    </tr>\n",
       "  </tbody>\n",
       "</table>\n",
       "</div>"
      ],
      "text/plain": [
       "Metric                                                  CIS                 \\\n",
       "                                                    Overall   569.50000001   \n",
       "Risk Model                                                                   \n",
       "1.0  EMBEDDINGS+RADIOMICS_dsm_multi_encoders  0.664 (0.028)  0.688 (0.037)   \n",
       "     EMBEDDINGS+RADIOMICS_nfg_multi_encoders  0.647 (0.021)  0.663 (0.031)   \n",
       "2.0  EMBEDDINGS+RADIOMICS_dsm_multi_encoders  0.674 (0.020)  0.673 (0.018)   \n",
       "     EMBEDDINGS+RADIOMICS_nfg_multi_encoders  0.666 (0.015)  0.645 (0.025)   \n",
       "3.0  EMBEDDINGS+RADIOMICS_dsm_multi_encoders  0.564 (0.098)  0.534 (0.121)   \n",
       "     EMBEDDINGS+RADIOMICS_nfg_multi_encoders  0.579 (0.079)  0.575 (0.145)   \n",
       "\n",
       "Metric                                                                      \\\n",
       "                                              1015.00000001  1510.75000001   \n",
       "Risk Model                                                                   \n",
       "1.0  EMBEDDINGS+RADIOMICS_dsm_multi_encoders  0.656 (0.022)  0.629 (0.042)   \n",
       "     EMBEDDINGS+RADIOMICS_nfg_multi_encoders  0.637 (0.024)  0.615 (0.052)   \n",
       "2.0  EMBEDDINGS+RADIOMICS_dsm_multi_encoders  0.673 (0.017)  0.666 (0.020)   \n",
       "     EMBEDDINGS+RADIOMICS_nfg_multi_encoders  0.660 (0.015)  0.657 (0.019)   \n",
       "3.0  EMBEDDINGS+RADIOMICS_dsm_multi_encoders  0.530 (0.115)  0.536 (0.116)   \n",
       "     EMBEDDINGS+RADIOMICS_nfg_multi_encoders  0.543 (0.129)  0.545 (0.080)   \n",
       "\n",
       "Metric                                                  BRS                 \\\n",
       "                                                    Overall   569.50000001   \n",
       "Risk Model                                                                   \n",
       "1.0  EMBEDDINGS+RADIOMICS_dsm_multi_encoders  0.201 (0.016)  0.038 (0.007)   \n",
       "     EMBEDDINGS+RADIOMICS_nfg_multi_encoders  0.237 (0.010)  0.038 (0.007)   \n",
       "2.0  EMBEDDINGS+RADIOMICS_dsm_multi_encoders  0.151 (0.004)  0.084 (0.004)   \n",
       "     EMBEDDINGS+RADIOMICS_nfg_multi_encoders  0.196 (0.006)  0.084 (0.006)   \n",
       "3.0  EMBEDDINGS+RADIOMICS_dsm_multi_encoders  0.177 (0.012)  0.011 (0.003)   \n",
       "     EMBEDDINGS+RADIOMICS_nfg_multi_encoders  0.178 (0.011)  0.011 (0.003)   \n",
       "\n",
       "Metric                                                                      \n",
       "                                              1015.00000001  1510.75000001  \n",
       "Risk Model                                                                  \n",
       "1.0  EMBEDDINGS+RADIOMICS_dsm_multi_encoders  0.073 (0.007)  0.110 (0.003)  \n",
       "     EMBEDDINGS+RADIOMICS_nfg_multi_encoders  0.072 (0.008)  0.110 (0.003)  \n",
       "2.0  EMBEDDINGS+RADIOMICS_dsm_multi_encoders  0.153 (0.005)  0.213 (0.013)  \n",
       "     EMBEDDINGS+RADIOMICS_nfg_multi_encoders  0.148 (0.013)  0.205 (0.008)  \n",
       "3.0  EMBEDDINGS+RADIOMICS_dsm_multi_encoders  0.022 (0.004)  0.033 (0.004)  \n",
       "     EMBEDDINGS+RADIOMICS_nfg_multi_encoders  0.022 (0.004)  0.033 (0.004)  "
      ]
     },
     "execution_count": 69,
     "metadata": {},
     "output_type": "execute_result"
    }
   ],
   "source": [
    "# Compute average performance across fold and models\n",
    "table = results.groupby(['Model', 'Risk', 'Metric']).apply(lambda x:  pd.Series([\"{:.3f} ({:.3f})\".format(mean, std) for mean, std in zip(x.mean(), x.std())], index = x.columns))\n",
    "table = table.unstack(level=-1).stack(level=0).unstack(level=-1).loc[:, ['CIS', 'BRS']]\n",
    "table = table.reorder_levels(['Risk', 'Model']).sort_index(level = 0, sort_remaining = False)\n",
    "\n",
    "table"
   ]
  },
  {
   "cell_type": "code",
   "execution_count": 15,
   "metadata": {},
   "outputs": [
    {
     "data": {
      "text/html": [
       "<div>\n",
       "<style scoped>\n",
       "    .dataframe tbody tr th:only-of-type {\n",
       "        vertical-align: middle;\n",
       "    }\n",
       "\n",
       "    .dataframe tbody tr th {\n",
       "        vertical-align: top;\n",
       "    }\n",
       "\n",
       "    .dataframe thead tr th {\n",
       "        text-align: left;\n",
       "    }\n",
       "\n",
       "    .dataframe thead tr:last-of-type th {\n",
       "        text-align: right;\n",
       "    }\n",
       "</style>\n",
       "<table border=\"1\" class=\"dataframe\">\n",
       "  <thead>\n",
       "    <tr>\n",
       "      <th></th>\n",
       "      <th>Metric</th>\n",
       "      <th colspan=\"4\" halign=\"left\">CIS</th>\n",
       "      <th colspan=\"4\" halign=\"left\">BRS</th>\n",
       "    </tr>\n",
       "    <tr>\n",
       "      <th></th>\n",
       "      <th></th>\n",
       "      <th>Overall</th>\n",
       "      <th>570.00000001</th>\n",
       "      <th>1006.00000001</th>\n",
       "      <th>1519.75000001</th>\n",
       "      <th>Overall</th>\n",
       "      <th>570.00000001</th>\n",
       "      <th>1006.00000001</th>\n",
       "      <th>1519.75000001</th>\n",
       "    </tr>\n",
       "    <tr>\n",
       "      <th>Risk</th>\n",
       "      <th>Model</th>\n",
       "      <th></th>\n",
       "      <th></th>\n",
       "      <th></th>\n",
       "      <th></th>\n",
       "      <th></th>\n",
       "      <th></th>\n",
       "      <th></th>\n",
       "      <th></th>\n",
       "    </tr>\n",
       "  </thead>\n",
       "  <tbody>\n",
       "    <tr>\n",
       "      <th rowspan=\"2\" valign=\"top\">1.0</th>\n",
       "      <th>CS Cox</th>\n",
       "      <td>0.300 (0.274)</td>\n",
       "      <td>0.300 (0.274)</td>\n",
       "      <td>0.300 (0.274)</td>\n",
       "      <td>0.300 (0.274)</td>\n",
       "      <td>nan (nan)</td>\n",
       "      <td>0.875 (0.015)</td>\n",
       "      <td>0.762 (0.004)</td>\n",
       "      <td>0.595 (0.054)</td>\n",
       "    </tr>\n",
       "    <tr>\n",
       "      <th>Fine Gray</th>\n",
       "      <td>0.500 (0.000)</td>\n",
       "      <td>0.500 (0.000)</td>\n",
       "      <td>0.500 (0.000)</td>\n",
       "      <td>0.500 (0.000)</td>\n",
       "      <td>nan (nan)</td>\n",
       "      <td>0.871 (0.012)</td>\n",
       "      <td>0.744 (0.025)</td>\n",
       "      <td>0.573 (0.052)</td>\n",
       "    </tr>\n",
       "    <tr>\n",
       "      <th rowspan=\"2\" valign=\"top\">2.0</th>\n",
       "      <th>CS Cox</th>\n",
       "      <td>0.300 (0.274)</td>\n",
       "      <td>0.300 (0.274)</td>\n",
       "      <td>0.300 (0.274)</td>\n",
       "      <td>0.300 (0.274)</td>\n",
       "      <td>nan (nan)</td>\n",
       "      <td>0.992 (0.004)</td>\n",
       "      <td>0.996 (0.013)</td>\n",
       "      <td>0.989 (0.044)</td>\n",
       "    </tr>\n",
       "    <tr>\n",
       "      <th>Fine Gray</th>\n",
       "      <td>0.500 (0.000)</td>\n",
       "      <td>0.500 (0.000)</td>\n",
       "      <td>0.500 (0.000)</td>\n",
       "      <td>0.500 (0.000)</td>\n",
       "      <td>nan (nan)</td>\n",
       "      <td>0.993 (0.005)</td>\n",
       "      <td>0.983 (0.020)</td>\n",
       "      <td>0.974 (0.042)</td>\n",
       "    </tr>\n",
       "    <tr>\n",
       "      <th rowspan=\"2\" valign=\"top\">3.0</th>\n",
       "      <th>CS Cox</th>\n",
       "      <td>0.300 (0.274)</td>\n",
       "      <td>0.300 (0.274)</td>\n",
       "      <td>0.300 (0.274)</td>\n",
       "      <td>0.300 (0.274)</td>\n",
       "      <td>nan (nan)</td>\n",
       "      <td>0.990 (0.001)</td>\n",
       "      <td>0.993 (0.010)</td>\n",
       "      <td>0.987 (0.044)</td>\n",
       "    </tr>\n",
       "    <tr>\n",
       "      <th>Fine Gray</th>\n",
       "      <td>0.500 (0.000)</td>\n",
       "      <td>0.500 (0.000)</td>\n",
       "      <td>0.500 (0.000)</td>\n",
       "      <td>0.500 (0.000)</td>\n",
       "      <td>nan (nan)</td>\n",
       "      <td>0.991 (0.004)</td>\n",
       "      <td>0.983 (0.016)</td>\n",
       "      <td>0.973 (0.043)</td>\n",
       "    </tr>\n",
       "    <tr>\n",
       "      <th rowspan=\"2\" valign=\"top\">4.0</th>\n",
       "      <th>CS Cox</th>\n",
       "      <td>0.300 (0.274)</td>\n",
       "      <td>0.300 (0.274)</td>\n",
       "      <td>0.300 (0.274)</td>\n",
       "      <td>0.300 (0.274)</td>\n",
       "      <td>nan (nan)</td>\n",
       "      <td>0.987 (0.003)</td>\n",
       "      <td>0.985 (0.010)</td>\n",
       "      <td>0.980 (0.041)</td>\n",
       "    </tr>\n",
       "    <tr>\n",
       "      <th>Fine Gray</th>\n",
       "      <td>0.500 (0.000)</td>\n",
       "      <td>0.500 (0.000)</td>\n",
       "      <td>0.500 (0.000)</td>\n",
       "      <td>0.500 (0.000)</td>\n",
       "      <td>nan (nan)</td>\n",
       "      <td>0.988 (0.006)</td>\n",
       "      <td>0.974 (0.017)</td>\n",
       "      <td>0.961 (0.044)</td>\n",
       "    </tr>\n",
       "  </tbody>\n",
       "</table>\n",
       "</div>"
      ],
      "text/plain": [
       "Metric                    CIS                                               \\\n",
       "                      Overall   570.00000001  1006.00000001  1519.75000001   \n",
       "Risk Model                                                                   \n",
       "1.0  CS Cox     0.300 (0.274)  0.300 (0.274)  0.300 (0.274)  0.300 (0.274)   \n",
       "     Fine Gray  0.500 (0.000)  0.500 (0.000)  0.500 (0.000)  0.500 (0.000)   \n",
       "2.0  CS Cox     0.300 (0.274)  0.300 (0.274)  0.300 (0.274)  0.300 (0.274)   \n",
       "     Fine Gray  0.500 (0.000)  0.500 (0.000)  0.500 (0.000)  0.500 (0.000)   \n",
       "3.0  CS Cox     0.300 (0.274)  0.300 (0.274)  0.300 (0.274)  0.300 (0.274)   \n",
       "     Fine Gray  0.500 (0.000)  0.500 (0.000)  0.500 (0.000)  0.500 (0.000)   \n",
       "4.0  CS Cox     0.300 (0.274)  0.300 (0.274)  0.300 (0.274)  0.300 (0.274)   \n",
       "     Fine Gray  0.500 (0.000)  0.500 (0.000)  0.500 (0.000)  0.500 (0.000)   \n",
       "\n",
       "Metric                BRS                                               \n",
       "                  Overall   570.00000001  1006.00000001  1519.75000001  \n",
       "Risk Model                                                              \n",
       "1.0  CS Cox     nan (nan)  0.875 (0.015)  0.762 (0.004)  0.595 (0.054)  \n",
       "     Fine Gray  nan (nan)  0.871 (0.012)  0.744 (0.025)  0.573 (0.052)  \n",
       "2.0  CS Cox     nan (nan)  0.992 (0.004)  0.996 (0.013)  0.989 (0.044)  \n",
       "     Fine Gray  nan (nan)  0.993 (0.005)  0.983 (0.020)  0.974 (0.042)  \n",
       "3.0  CS Cox     nan (nan)  0.990 (0.001)  0.993 (0.010)  0.987 (0.044)  \n",
       "     Fine Gray  nan (nan)  0.991 (0.004)  0.983 (0.016)  0.973 (0.043)  \n",
       "4.0  CS Cox     nan (nan)  0.987 (0.003)  0.985 (0.010)  0.980 (0.041)  \n",
       "     Fine Gray  nan (nan)  0.988 (0.006)  0.974 (0.017)  0.961 (0.044)  "
      ]
     },
     "execution_count": 15,
     "metadata": {},
     "output_type": "execute_result"
    }
   ],
   "source": [
    "# Compute average performance across fold and models\n",
    "table = results.groupby(['Model', 'Risk', 'Metric']).apply(lambda x:  pd.Series([\"{:.3f} ({:.3f})\".format(mean, std) for mean, std in zip(x.mean(), x.std())], index = x.columns))\n",
    "table = table.unstack(level=-1).stack(level=0).unstack(level=-1).loc[:, ['CIS', 'BRS']]\n",
    "table = table.reorder_levels(['Risk', 'Model']).sort_index(level = 0, sort_remaining = False)\n",
    "\n",
    "table"
   ]
  },
  {
   "cell_type": "code",
   "execution_count": 55,
   "metadata": {},
   "outputs": [
    {
     "name": "stdout",
     "output_type": "stream",
     "text": [
      "\\begin{tabular}{llllllll}\n",
      "\\toprule\n",
      " &  & 570.000000 & 1006.000000 & 1519.750000 & 570.000000 & 1006.000000 & 1519.750000 \\\\\n",
      "Risk & Model &  &  &  &  &  &  \\\\\n",
      "\\midrule\n",
      "1.000000 & DSM & 0.628 (0.021) & 0.623 (0.019) & 0.614 (0.015) & 0.110 (0.010) & 0.184 (0.005) & 0.237 (0.008) \\\\\n",
      "\\cline{1-8}\n",
      "2.000000 & DSM & 0.674 (0.180) & 0.657 (0.100) & 0.698 (0.017) & 0.007 (0.002) & 0.016 (0.006) & 0.025 (0.003) \\\\\n",
      "\\cline{1-8}\n",
      "3.000000 & DSM & 0.528 (0.075) & 0.637 (0.082) & 0.638 (0.093) & 0.009 (0.003) & 0.017 (0.003) & 0.027 (0.003) \\\\\n",
      "\\cline{1-8}\n",
      "4.000000 & DSM & 0.608 (0.125) & 0.606 (0.076) & 0.618 (0.052) & 0.012 (0.004) & 0.026 (0.004) & 0.038 (0.004) \\\\\n",
      "\\cline{1-8}\n",
      "\\bottomrule\n",
      "\\end{tabular}\n",
      "\n"
     ]
    }
   ],
   "source": [
    "print(table.droplevel(0, axis = 1).loc[:,table.columns.get_level_values(1) != 'Overall'].to_latex())"
   ]
  },
  {
   "attachments": {},
   "cell_type": "markdown",
   "metadata": {},
   "source": [
    "-----"
   ]
  },
  {
   "attachments": {},
   "cell_type": "markdown",
   "metadata": {},
   "source": [
    "# Split by age"
   ]
  },
  {
   "attachments": {},
   "cell_type": "markdown",
   "metadata": {},
   "source": [
    "This section is to be used for the FRAMINGHAM analysis."
   ]
  },
  {
   "cell_type": "code",
   "execution_count": 14,
   "metadata": {},
   "outputs": [
    {
     "ename": "AssertionError",
     "evalue": "All following analysis is specific to FRAMINGHAM",
     "output_type": "error",
     "traceback": [
      "\u001b[0;31m---------------------------------------------------------------------------\u001b[0m",
      "\u001b[0;31mAssertionError\u001b[0m                            Traceback (most recent call last)",
      "Cell \u001b[0;32mIn[14], line 1\u001b[0m\n\u001b[0;32m----> 1\u001b[0m \u001b[38;5;28;01massert\u001b[39;00m (dataset \u001b[38;5;241m==\u001b[39m \u001b[38;5;124m\"\u001b[39m\u001b[38;5;124mFRAMINGHAM\u001b[39m\u001b[38;5;124m\"\u001b[39m) \u001b[38;5;129;01mor\u001b[39;00m (dataset \u001b[38;5;241m==\u001b[39m \u001b[38;5;124m\"\u001b[39m\u001b[38;5;124mSYNTHETIC_COMPETING_GROUP\u001b[39m\u001b[38;5;124m\"\u001b[39m), \u001b[38;5;124m\"\u001b[39m\u001b[38;5;124mAll following analysis is specific to FRAMINGHAM\u001b[39m\u001b[38;5;124m\"\u001b[39m\n",
      "\u001b[0;31mAssertionError\u001b[0m: All following analysis is specific to FRAMINGHAM"
     ]
    }
   ],
   "source": [
    "assert (dataset == \"FRAMINGHAM\") or (dataset == \"SYNTHETIC_COMPETING_GROUP\"), \"All following analysis is specific to FRAMINGHAM\""
   ]
  },
  {
   "cell_type": "code",
   "execution_count": null,
   "metadata": {},
   "outputs": [],
   "source": [
    "selection = ['BRS_{}'.format(group) for group in groups.unique()]"
   ]
  },
  {
   "cell_type": "code",
   "execution_count": null,
   "metadata": {},
   "outputs": [],
   "source": [
    "table = results.groupby(['Model', 'Risk', 'Metric']).apply(lambda x: pd.Series([\"{:.3f} ({:.3f})\".format(mean, std) for mean, std in zip(x.mean(), x.std())], index = x.columns))\n",
    "table = table.unstack(level=-1).stack(level=0).loc[['NeuralFG', 'NeuralFG Non Competing'], selection]\n",
    "table = table.reorder_levels(['Risk', 'Model', None]).sort_index(level = 0, sort_remaining = False)\n",
    "\n",
    "difference = (results.loc['NeuralFG'] - results.loc['NeuralFG Non Competing']).groupby(['Risk', 'Metric']).apply(lambda x: pd.Series([\"{:.3f} ({:.3f})\".format(mean, std) for mean, std in zip(x.mean(), x.std())], index = x.columns))\n",
    "difference = difference.unstack(level=-1).stack(level=0).loc[:, selection]\n"
   ]
  },
  {
   "cell_type": "code",
   "execution_count": null,
   "metadata": {},
   "outputs": [],
   "source": [
    "table"
   ]
  },
  {
   "cell_type": "code",
   "execution_count": null,
   "metadata": {},
   "outputs": [],
   "source": [
    "table = table.loc[2].T.stack().reorder_levels([None, 'Metric']).sort_index(level = 0, sort_remaining = False)\n",
    "table['Difference'] = difference.loc[2].stack()\n",
    "table"
   ]
  },
  {
   "cell_type": "code",
   "execution_count": null,
   "metadata": {},
   "outputs": [],
   "source": [
    "print(table.unstack().T.to_latex())"
   ]
  },
  {
   "cell_type": "code",
   "execution_count": null,
   "metadata": {},
   "outputs": [],
   "source": [
    "print(pd.concat({\"Age Group\": groups, \"Event\": pd.Series(e)}, 1).groupby(['Age Group', 'Event']).size().unstack().to_latex())"
   ]
  },
  {
   "cell_type": "code",
   "execution_count": null,
   "metadata": {},
   "outputs": [],
   "source": [
    "pd.concat({\"Age Group\": groups, \"Event\": pd.Series(e)}, 1).groupby(['Age Group', 'Event']).size().unstack().rename(columns = {0: 'Censoring', 1: 'Death', 2: 'CVD'})"
   ]
  },
  {
   "attachments": {},
   "cell_type": "markdown",
   "metadata": {},
   "source": [
    "-------"
   ]
  },
  {
   "attachments": {},
   "cell_type": "markdown",
   "metadata": {},
   "source": [
    "# Feature importance\n",
    "\n",
    "Estimate the feature importance of models with and without competing risks to understand how important is to leverage this information. You need to have run the cause specific neural fine gray model (option cause_specific)."
   ]
  },
  {
   "cell_type": "code",
   "execution_count": 40,
   "metadata": {},
   "outputs": [],
   "source": [
    "outcome_interest = 1 \n",
    "iter = 10"
   ]
  },
  {
   "cell_type": "code",
   "execution_count": 41,
   "metadata": {},
   "outputs": [],
   "source": [
    "x, t, e, cNCriates = datasets.load_dataset(dataset, competing = True, normalize = True) # Open the data\n",
    "#t =  models['nfg'].__preprocess__(t)\n",
    "#t = models[\"nfg\"].__preprocess"
   ]
  },
  {
   "cell_type": "code",
   "execution_count": 24,
   "metadata": {},
   "outputs": [],
   "source": [
    "cNCriates = pd.Series(cNCriates).replace({\n",
    "    'SEX': 'Sex',\n",
    "    'CURSMOKE': 'Smoking',\n",
    "    'DIABETES': 'Diabetes',\n",
    "    'BPMEDS': 'Anti-hypertensive medication',\n",
    "    'educ': 'Education',\n",
    "    'PREVCHD': 'Coronary Heart Disease',\n",
    "    'PREVAP': 'Angina Pectoris',\n",
    "    'PREVMI': ' Myocardial Infraction',\n",
    "    'PREVSTRK': 'Stroke',\n",
    "    'PREVHYP': 'Hypotension',\n",
    "    'TOTCHOL': 'Cholesterol',\n",
    "    'AGE': 'Age',\n",
    "    'SYSBP': 'Systolic Blood Pressure',\n",
    "    'DIABP': 'Diastolic Blood Pressure',\n",
    "    'CIGPDAY': 'Number of cigarettes',\n",
    "    'HEARTRTE': 'Heart rate',\n",
    "    'GLUCOSE' : 'Glucose'\n",
    "}).values"
   ]
  },
  {
   "cell_type": "code",
   "execution_count": 43,
   "metadata": {},
   "outputs": [
    {
     "name": "stderr",
     "output_type": "stream",
     "text": [
      "100%|██████████| 10/10 [01:18<00:00,  7.89s/it]\n",
      "100%|██████████| 10/10 [01:12<00:00,  7.24s/it]\n",
      "100%|██████████| 10/10 [01:20<00:00,  8.01s/it]\n",
      "100%|██████████| 10/10 [01:12<00:00,  7.24s/it]\n"
     ]
    }
   ],
   "source": [
    "importance = {'Competing': [], 'Non Competing': []}\n",
    "\n",
    "for fold in range(2):\n",
    "    # Competing risk importance\n",
    "    competing_mean, competing_std = models['nfg'].best_model[fold].feature_importance(x, t, e, iter)\n",
    "    importance['Competing'].append((pd.Series(competing_mean), pd.Series(competing_std)))\n",
    "\n",
    "    ncompeting_mean, ncompeting_std = models['nfgcs'].best_model[fold].feature_importance(x, t, e, iter)\n",
    "    importance['Non Competing'].append((pd.Series(ncompeting_mean), pd.Series(ncompeting_std)))\n",
    "for model in importance:\n",
    "    mean, std = pd.concat([impi[0] for impi in importance[model]], axis = 1), pd.concat([impi[1] for impi in importance[model]], axis = 1)\n",
    "    importance[model] = pd.concat({\"Error\": std.mean(1), \"Mean\": mean.mean(1)}, axis = 1) # Wrong error as correlation may imapct\n",
    "\n",
    "importance = pd.concat(importance, axis = 1)\n",
    "importance.index = cNCriates"
   ]
  },
  {
   "cell_type": "code",
   "execution_count": 51,
   "metadata": {},
   "outputs": [
    {
     "data": {
      "text/plain": [
       "<Axes: >"
      ]
     },
     "execution_count": 51,
     "metadata": {},
     "output_type": "execute_result"
    },
    {
     "data": {
      "image/png": "[encoded data removed]",
      "text/plain": [
       "<Figure size 640x480 with 1 Axes>"
      ]
     },
     "metadata": {},
     "output_type": "display_data"
    }
   ],
   "source": [
    "importance[\"Competing\"][\"Mean\"].hist()"
   ]
  },
  {
   "cell_type": "code",
   "execution_count": 52,
   "metadata": {},
   "outputs": [
    {
     "data": {
      "text/plain": [
       "feature_85     False\n",
       "feature_96     False\n",
       "feature_137    False\n",
       "feature_25     False\n",
       "feature_49     False\n",
       "               ...  \n",
       "feature_105    False\n",
       "feature_131    False\n",
       "feature_52     False\n",
       "feature_120    False\n",
       "feature_133     True\n",
       "Name: Mean, Length: 140, dtype: bool"
      ]
     },
     "execution_count": 52,
     "metadata": {},
     "output_type": "execute_result"
    }
   ],
   "source": [
    "importance[\"Competing\"][\"Mean\"] > 0.4"
   ]
  },
  {
   "cell_type": "code",
   "execution_count": 44,
   "metadata": {},
   "outputs": [],
   "source": [
    "sort = importance[('Competing', 'Mean')].abs().sort_values().index\n",
    "importance = importance.loc[sort]"
   ]
  },
  {
   "cell_type": "code",
   "execution_count": 45,
   "metadata": {},
   "outputs": [
    {
     "data": {
      "image/png": "[encoded data removed]",
      "text/plain": [
       "<Figure size 640x480 with 1 Axes>"
      ]
     },
     "metadata": {},
     "output_type": "display_data"
    }
   ],
   "source": [
    "with sns.axes_style(\"whitegrid\"):\n",
    "    importance.iloc[-6:,[1, 3]].droplevel(1, axis = 1).plot.barh(xerr = (importance.iloc[-6:,0], importance.iloc[-6:,2]))\n",
    "    plt.xlim(0, 0.8)\n",
    "    plt.xlabel('Relative change in NLL')"
   ]
  },
  {
   "attachments": {},
   "cell_type": "markdown",
   "metadata": {},
   "source": [
    "--------"
   ]
  },
  {
   "attachments": {},
   "cell_type": "markdown",
   "metadata": {},
   "source": [
    "# Risk sets - Guidelines"
   ]
  },
  {
   "attachments": {},
   "cell_type": "markdown",
   "metadata": {},
   "source": [
    "Use with the Framingham dataset to explore how this impact the 10-year risk estimation."
   ]
  },
  {
   "cell_type": "code",
   "execution_count": null,
   "metadata": {},
   "outputs": [],
   "source": [
    "x, t, e, cNCriates = datasets.load_dataset(dataset, competing = True, normalize = True) # Open the data"
   ]
  },
  {
   "cell_type": "code",
   "execution_count": null,
   "metadata": {},
   "outputs": [],
   "source": [
    "ten_year = models['nfg'].__preprocess__(3650) # To adapt if the dataset is not in dayss\n",
    "labels = [\"Low\", \"Medium\", \"High\"]"
   ]
  },
  {
   "cell_type": "code",
   "execution_count": null,
   "metadata": {},
   "outputs": [],
   "source": [
    "ten_year_survival = {'nfg': pd.Series('', index = predictions['nfg'].index), 'nfgcs': pd.Series('', index = predictions['nfg'].index)}\n",
    "for fold in range(5):\n",
    "    index = (predictions['nfg'].Use == fold).iloc[:, 0]\n",
    "\n",
    "    # Competing risk importance\n",
    "    for model in ten_year_survival:\n",
    "        risks = models[model].best_model[fold].predict_risk(x[index], [ten_year], risk = 2).flatten() # Predict CVD risk\n",
    "        ten_year_survival[model][index] = pd.cut(risks, [0, 0.1, 0.2, 1], labels = labels).to_numpy()"
   ]
  },
  {
   "cell_type": "code",
   "execution_count": null,
   "metadata": {},
   "outputs": [],
   "source": [
    "selection = (groups == '50-60') | (groups == '60+')\n",
    "analysisGroup = {\n",
    "    'All': selection,\n",
    "    'Observed event': (t <= 3650) & (e == 2) & selection,\n",
    "    'No event': (t > 3650) & selection\n",
    "}\n",
    "\n",
    "for group in analysisGroup:\n",
    "    confusion = pd.DataFrame(confusion_matrix(ten_year_survival['nfg'][analysisGroup[group]], ten_year_survival['nfgcs'][analysisGroup[group]], labels = labels), index = labels, columns = labels) # line represents nfg, columns single nfg\n",
    "    confusion = pd.concat([confusion, confusion.sum(1).rename('Competing')], 1)\n",
    "    confusion.loc['Non Competing'] = confusion.sum(0)\n",
    "    print(group, confusion.to_latex())"
   ]
  },
  {
   "attachments": {},
   "cell_type": "markdown",
   "metadata": {},
   "source": [
    "---------"
   ]
  },
  {
   "attachments": {},
   "cell_type": "markdown",
   "metadata": {},
   "source": [
    "# Displaying survival curves\n",
    "\n",
    "Displays the risk scores estimated by both models"
   ]
  },
  {
   "cell_type": "code",
   "execution_count": null,
   "metadata": {},
   "outputs": [],
   "source": [
    "models_display = ['nfg', 'dh', 'ds', 'dsm', 'finegray', 'coxcs']"
   ]
  },
  {
   "cell_type": "code",
   "execution_count": null,
   "metadata": {},
   "outputs": [],
   "source": [
    "np.random.seed(42)\n",
    "patient_id = np.random.choice(len(predictions['nfg']), size = 5 )"
   ]
  },
  {
   "cell_type": "code",
   "execution_count": null,
   "metadata": {},
   "outputs": [],
   "source": [
    "fig, axes = plt.subplots(len(patient_id), 2, sharex=True, sharey='row', figsize = (8, len(patient_id) * 2))\n",
    "fig.supxlabel('Time (in years)')\n",
    "fig.supylabel('Cumulative Incidence Functions')\n",
    "plt.xlim(0, 25)\n",
    "\n",
    "for i, id in enumerate(patient_id):\n",
    "    for j, risk in enumerate(['1', '2']):\n",
    "        for model in models_display:\n",
    "            pred_pat = predictions[model][risk].loc[id].rename(dict_name[model])\n",
    "            pred_pat.index = pred_pat.index.astype(float) / 365\n",
    "\n",
    "            pred_pat.plot(legend = False, ax = axes[i, j])\n",
    "    \n",
    "        axes[i, j].grid(alpha = 0.3)\n",
    "    axes[i, 0].set_ylabel(f'Patient {i + 1}')\n",
    "\n",
    "axes[0, 0].set_title('Death')\n",
    "axes[0, 1].set_title('CVD')\n",
    "axes[0, 1].legend(loc='center left', bbox_to_anchor=(1, 0.5))\n",
    "plt.tight_layout()\n",
    "plt.show()"
   ]
  },
  {
   "attachments": {},
   "cell_type": "markdown",
   "metadata": {},
   "source": [
    "-------------"
   ]
  }
 ],
 "metadata": {
  "kernelspec": {
   "display_name": "ukbb",
   "language": "python",
   "name": "python3"
  },
  "language_info": {
   "codemirror_mode": {
    "name": "ipython",
    "version": 3
   },
   "file_extension": ".py",
   "mimetype": "text/x-python",
   "name": "python",
   "nbconvert_exporter": "python",
   "pygments_lexer": "ipython3",
   "version": "3.10.13"
  },
  "orig_nbformat": 4
 },
 "nbformat": 4,
 "nbformat_minor": 2
}
