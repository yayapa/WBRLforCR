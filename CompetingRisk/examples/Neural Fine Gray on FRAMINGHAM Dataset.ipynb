{
 "cells": [
  {
   "cell_type": "markdown",
   "metadata": {},
   "source": [
    "# Neural Fine Gray on FRAMINGHAM Dataset"
   ]
  },
  {
   "cell_type": "markdown",
   "metadata": {},
   "source": [
    "In this notebook, we will apply Neural Fine Gray on the FRAMINGHAM data."
   ]
  },
  {
   "cell_type": "code",
   "execution_count": 2,
   "metadata": {},
   "outputs": [],
   "source": [
    "import sys\n",
    "sys.path.append('../')\n",
    "sys.path.append('../DeepSurvivalMachines/')"
   ]
  },
  {
   "cell_type": "code",
   "execution_count": 8,
   "metadata": {},
   "outputs": [
    {
     "data": {
      "text/html": [
       "<div>\n",
       "<style scoped>\n",
       "    .dataframe tbody tr th:only-of-type {\n",
       "        vertical-align: middle;\n",
       "    }\n",
       "\n",
       "    .dataframe tbody tr th {\n",
       "        vertical-align: top;\n",
       "    }\n",
       "\n",
       "    .dataframe thead th {\n",
       "        text-align: right;\n",
       "    }\n",
       "</style>\n",
       "<table border=\"1\" class=\"dataframe\">\n",
       "  <thead>\n",
       "    <tr style=\"text-align: right;\">\n",
       "      <th></th>\n",
       "      <th>eid</th>\n",
       "      <th>event</th>\n",
       "      <th>duration</th>\n",
       "      <th>feature_0_x</th>\n",
       "      <th>feature_1_x</th>\n",
       "      <th>feature_2_x</th>\n",
       "      <th>feature_3_x</th>\n",
       "      <th>feature_4_x</th>\n",
       "      <th>feature_5_x</th>\n",
       "      <th>feature_6_x</th>\n",
       "      <th>...</th>\n",
       "      <th>feature_130_y</th>\n",
       "      <th>feature_131_y</th>\n",
       "      <th>feature_132_y</th>\n",
       "      <th>feature_133_y</th>\n",
       "      <th>feature_134_y</th>\n",
       "      <th>feature_135_y</th>\n",
       "      <th>feature_136_y</th>\n",
       "      <th>feature_137_y</th>\n",
       "      <th>feature_138_y</th>\n",
       "      <th>feature_139_y</th>\n",
       "    </tr>\n",
       "  </thead>\n",
       "  <tbody>\n",
       "    <tr>\n",
       "      <th>0</th>\n",
       "      <td>1007079</td>\n",
       "      <td>1</td>\n",
       "      <td>1137.000001</td>\n",
       "      <td>0.026490</td>\n",
       "      <td>-0.057304</td>\n",
       "      <td>0.091047</td>\n",
       "      <td>-0.071039</td>\n",
       "      <td>-0.002189</td>\n",
       "      <td>-0.010172</td>\n",
       "      <td>0.015391</td>\n",
       "      <td>...</td>\n",
       "      <td>-2.144796e+09</td>\n",
       "      <td>4.047213e+08</td>\n",
       "      <td>1.800831e+08</td>\n",
       "      <td>1.015033e+08</td>\n",
       "      <td>-2.241062e+07</td>\n",
       "      <td>2.117400e+06</td>\n",
       "      <td>1.224840e+07</td>\n",
       "      <td>50359.697438</td>\n",
       "      <td>-5.106233e+05</td>\n",
       "      <td>-693320.977778</td>\n",
       "    </tr>\n",
       "    <tr>\n",
       "      <th>1</th>\n",
       "      <td>1009041</td>\n",
       "      <td>2</td>\n",
       "      <td>304.000001</td>\n",
       "      <td>-0.000312</td>\n",
       "      <td>-0.059861</td>\n",
       "      <td>0.111449</td>\n",
       "      <td>-0.074401</td>\n",
       "      <td>-0.019056</td>\n",
       "      <td>-0.011975</td>\n",
       "      <td>0.025685</td>\n",
       "      <td>...</td>\n",
       "      <td>3.006820e+08</td>\n",
       "      <td>-4.674909e+08</td>\n",
       "      <td>1.425908e+08</td>\n",
       "      <td>2.347890e+08</td>\n",
       "      <td>-2.961656e+07</td>\n",
       "      <td>1.962509e+06</td>\n",
       "      <td>-6.204858e+06</td>\n",
       "      <td>-596936.092263</td>\n",
       "      <td>-4.416941e+05</td>\n",
       "      <td>933147.815189</td>\n",
       "    </tr>\n",
       "    <tr>\n",
       "      <th>2</th>\n",
       "      <td>1009727</td>\n",
       "      <td>1</td>\n",
       "      <td>367.000001</td>\n",
       "      <td>0.005949</td>\n",
       "      <td>-0.062669</td>\n",
       "      <td>0.087096</td>\n",
       "      <td>-0.071220</td>\n",
       "      <td>-0.003094</td>\n",
       "      <td>-0.021868</td>\n",
       "      <td>0.018319</td>\n",
       "      <td>...</td>\n",
       "      <td>-2.044829e+09</td>\n",
       "      <td>-3.366616e+08</td>\n",
       "      <td>1.526802e+08</td>\n",
       "      <td>-5.707337e+06</td>\n",
       "      <td>6.438846e+06</td>\n",
       "      <td>4.586807e+05</td>\n",
       "      <td>-8.749103e+05</td>\n",
       "      <td>-272271.237490</td>\n",
       "      <td>-3.799527e+05</td>\n",
       "      <td>252318.400209</td>\n",
       "    </tr>\n",
       "    <tr>\n",
       "      <th>3</th>\n",
       "      <td>1013241</td>\n",
       "      <td>1</td>\n",
       "      <td>1154.000001</td>\n",
       "      <td>0.011002</td>\n",
       "      <td>-0.042266</td>\n",
       "      <td>0.104070</td>\n",
       "      <td>-0.061743</td>\n",
       "      <td>-0.012246</td>\n",
       "      <td>-0.012669</td>\n",
       "      <td>0.024986</td>\n",
       "      <td>...</td>\n",
       "      <td>1.052476e+09</td>\n",
       "      <td>-4.186003e+08</td>\n",
       "      <td>-2.734863e+08</td>\n",
       "      <td>3.395242e+07</td>\n",
       "      <td>3.070348e+06</td>\n",
       "      <td>-5.085408e+06</td>\n",
       "      <td>6.044268e+06</td>\n",
       "      <td>-51800.347840</td>\n",
       "      <td>-1.069043e+06</td>\n",
       "      <td>-291383.489665</td>\n",
       "    </tr>\n",
       "    <tr>\n",
       "      <th>4</th>\n",
       "      <td>1013997</td>\n",
       "      <td>1</td>\n",
       "      <td>592.000001</td>\n",
       "      <td>0.016536</td>\n",
       "      <td>-0.059973</td>\n",
       "      <td>0.095931</td>\n",
       "      <td>-0.082984</td>\n",
       "      <td>-0.013993</td>\n",
       "      <td>-0.013447</td>\n",
       "      <td>0.027269</td>\n",
       "      <td>...</td>\n",
       "      <td>-1.874540e+09</td>\n",
       "      <td>-3.711567e+08</td>\n",
       "      <td>4.791157e+07</td>\n",
       "      <td>-3.777207e+07</td>\n",
       "      <td>6.390919e+06</td>\n",
       "      <td>-1.000346e+06</td>\n",
       "      <td>-2.674996e+06</td>\n",
       "      <td>-140699.953998</td>\n",
       "      <td>4.777805e+04</td>\n",
       "      <td>309017.699526</td>\n",
       "    </tr>\n",
       "  </tbody>\n",
       "</table>\n",
       "<p>5 rows × 1168 columns</p>\n",
       "</div>"
      ],
      "text/plain": [
       "       eid  event     duration  feature_0_x  feature_1_x  feature_2_x  \\\n",
       "0  1007079      1  1137.000001     0.026490    -0.057304     0.091047   \n",
       "1  1009041      2   304.000001    -0.000312    -0.059861     0.111449   \n",
       "2  1009727      1   367.000001     0.005949    -0.062669     0.087096   \n",
       "3  1013241      1  1154.000001     0.011002    -0.042266     0.104070   \n",
       "4  1013997      1   592.000001     0.016536    -0.059973     0.095931   \n",
       "\n",
       "   feature_3_x  feature_4_x  feature_5_x  feature_6_x  ...  feature_130_y  \\\n",
       "0    -0.071039    -0.002189    -0.010172     0.015391  ...  -2.144796e+09   \n",
       "1    -0.074401    -0.019056    -0.011975     0.025685  ...   3.006820e+08   \n",
       "2    -0.071220    -0.003094    -0.021868     0.018319  ...  -2.044829e+09   \n",
       "3    -0.061743    -0.012246    -0.012669     0.024986  ...   1.052476e+09   \n",
       "4    -0.082984    -0.013993    -0.013447     0.027269  ...  -1.874540e+09   \n",
       "\n",
       "   feature_131_y  feature_132_y  feature_133_y  feature_134_y  feature_135_y  \\\n",
       "0   4.047213e+08   1.800831e+08   1.015033e+08  -2.241062e+07   2.117400e+06   \n",
       "1  -4.674909e+08   1.425908e+08   2.347890e+08  -2.961656e+07   1.962509e+06   \n",
       "2  -3.366616e+08   1.526802e+08  -5.707337e+06   6.438846e+06   4.586807e+05   \n",
       "3  -4.186003e+08  -2.734863e+08   3.395242e+07   3.070348e+06  -5.085408e+06   \n",
       "4  -3.711567e+08   4.791157e+07  -3.777207e+07   6.390919e+06  -1.000346e+06   \n",
       "\n",
       "   feature_136_y  feature_137_y  feature_138_y  feature_139_y  \n",
       "0   1.224840e+07   50359.697438  -5.106233e+05 -693320.977778  \n",
       "1  -6.204858e+06 -596936.092263  -4.416941e+05  933147.815189  \n",
       "2  -8.749103e+05 -272271.237490  -3.799527e+05  252318.400209  \n",
       "3   6.044268e+06  -51800.347840  -1.069043e+06 -291383.489665  \n",
       "4  -2.674996e+06 -140699.953998   4.777805e+04  309017.699526  \n",
       "\n",
       "[5 rows x 1168 columns]"
      ]
     },
     "execution_count": 8,
     "metadata": {},
     "output_type": "execute_result"
    }
   ],
   "source": [
    "# count nans in df \n",
    "df\n"
   ]
  },
  {
   "cell_type": "code",
   "execution_count": 7,
   "metadata": {},
   "outputs": [],
   "source": [
    "import pandas as pd\n",
    "\n",
    "EPS = 1e-6\n",
    "df = pd.read_csv(\"/home/dmitrii/GitHub/CompetingRisk/data/competing_risk/abdomen_3m_unspec_2_features.csv\")\n",
    "# rename column time_to_event to duration\n",
    "df = df.rename(columns={\"time_to_event\": \"duration\"})\n",
    "split_cols = [f\"split_{i}\" for i in range(5)] \n",
    "df = df.drop(columns=split_cols)\n",
    "df['duration'] += EPS\n",
    "df_rad = pd.read_csv(\"/home/dmitrii/GitHub/CompetingRisk/data/competing_risk/abdomen_3m_unspec_2_pca_10_features.csv\")\n",
    "# rename column time_to_event to duration\n",
    "split_cols = [f\"split_{i}\" for i in range(5)] \n",
    "cols_to_remove = split_cols + ['time_to_event'] + [\"event\"]\n",
    "df_rad = df_rad.drop(columns=cols_to_remove)\n",
    "df = df.merge(df_rad, on = 'eid')"
   ]
  },
  {
   "cell_type": "markdown",
   "metadata": {},
   "source": [
    "### Load the FRAMINGHAM Dataset\n",
    "\n",
    "The package includes helper functions to load the dataset.\n",
    "\n",
    "X represents an np.array of features (covariates),\n",
    "T is the event/censoring times and,\n",
    "E is the censoring indicator."
   ]
  },
  {
   "cell_type": "code",
   "execution_count": 2,
   "metadata": {},
   "outputs": [],
   "source": [
    "from nfg import datasets\n",
    "x, t, e, columns = datasets.load_dataset('FRAMINGHAM', path = '../', competing = True)"
   ]
  },
  {
   "cell_type": "code",
   "execution_count": 2,
   "metadata": {},
   "outputs": [],
   "source": [
    "from nfg import datasets\n",
    "x, t, e, columns = datasets.load_dataset('ABDOMEN_RADIOMICS', path = '../', competing = True)"
   ]
  },
  {
   "cell_type": "code",
   "execution_count": 3,
   "metadata": {},
   "outputs": [],
   "source": [
    "from nfg import datasets\n",
    "x, t, e, columns = datasets.load_dataset('CARDIAC_EMBEDDINGS', path = '../', competing = True)"
   ]
  },
  {
   "cell_type": "code",
   "execution_count": 4,
   "metadata": {},
   "outputs": [
    {
     "name": "stdout",
     "output_type": "stream",
     "text": [
      "[0 1 2 3]\n"
     ]
    }
   ],
   "source": [
    "# unique values of e (numpy array)\n",
    "import numpy as np\n",
    "print(np.unique(e))\n"
   ]
  },
  {
   "cell_type": "code",
   "execution_count": 5,
   "metadata": {},
   "outputs": [
    {
     "data": {
      "text/plain": [
       "(2495, 1025)"
      ]
     },
     "execution_count": 5,
     "metadata": {},
     "output_type": "execute_result"
    }
   ],
   "source": [
    "x.shape"
   ]
  },
  {
   "cell_type": "code",
   "execution_count": 25,
   "metadata": {},
   "outputs": [
    {
     "data": {
      "text/plain": [
       "array(['SEX', 'CURSMOKE', 'DIABETES', 'BPMEDS', 'educ', 'PREVCHD',\n",
       "       'PREVAP', 'PREVMI', 'PREVSTRK', 'PREVHYP', 'TOTCHOL', 'AGE',\n",
       "       'SYSBP', 'DIABP', 'CIGPDAY', 'BMI', 'HEARTRTE', 'GLUCOSE'],\n",
       "      dtype=object)"
      ]
     },
     "execution_count": 25,
     "metadata": {},
     "output_type": "execute_result"
    }
   ],
   "source": []
  },
  {
   "cell_type": "code",
   "execution_count": 5,
   "metadata": {},
   "outputs": [
    {
     "data": {
      "text/plain": [
       "((3162, 1025), (3162,), (3162,))"
      ]
     },
     "execution_count": 5,
     "metadata": {},
     "output_type": "execute_result"
    }
   ],
   "source": [
    "x.shape, t.shape, e.shape"
   ]
  },
  {
   "cell_type": "markdown",
   "metadata": {},
   "source": []
  },
  {
   "cell_type": "markdown",
   "metadata": {},
   "source": [
    "### Compute horizons at which we evaluate the performance of Neural Fine Gray\n",
    "\n",
    "Survival predictions are issued at certain time horizons. Here we will evaluate the performance\n",
    "of NFG to issue predictions at the 25th, 50th and 75th event time quantile as is standard practice in Survival Analysis."
   ]
  },
  {
   "cell_type": "code",
   "execution_count": 6,
   "metadata": {},
   "outputs": [],
   "source": [
    "import numpy as np\n",
    "import torch\n",
    "np.random.seed(42)\n",
    "torch.random.manual_seed(42)\n",
    "\n",
    "horizons = [0.25, 0.5, 0.75]\n",
    "times = np.quantile(t[e > 0], horizons) # Fixed horizons for accurate comparison between competing and non competing"
   ]
  },
  {
   "cell_type": "code",
   "execution_count": 7,
   "metadata": {},
   "outputs": [
    {
     "data": {
      "text/plain": [
       "(array([220., 240., 334., 558., 416., 250., 165., 108., 150.,  54.]),\n",
       " array([  90.00000001,  379.20000001,  668.40000001,  957.60000001,\n",
       "        1246.80000001, 1536.00000001, 1825.20000001, 2114.40000001,\n",
       "        2403.60000001, 2692.80000001, 2982.00000001]),\n",
       " <BarContainer object of 10 artists>)"
      ]
     },
     "execution_count": 7,
     "metadata": {},
     "output_type": "execute_result"
    },
    {
     "data": {
      "image/png": "[encoded data removed]",
      "text/plain": [
       "<Figure size 640x480 with 1 Axes>"
      ]
     },
     "metadata": {},
     "output_type": "display_data"
    }
   ],
   "source": [
    "import matplotlib.pyplot as plt\n",
    "plt.hist(t)"
   ]
  },
  {
   "cell_type": "code",
   "execution_count": 8,
   "metadata": {},
   "outputs": [
    {
     "name": "stdout",
     "output_type": "stream",
     "text": [
      "At time 596.00\n",
      "\t 0.60 % observed risk 0\n",
      "\t 4.09 % observed risk 1\n",
      "\t 1.60 % observed risk 2\n",
      "\t 9.34 % observed risk 3\n",
      "At time 1023.50\n",
      "\t 7.82 % observed risk 0\n",
      "\t 8.22 % observed risk 1\n",
      "\t 3.33 % observed risk 2\n",
      "\t 18.56 % observed risk 3\n",
      "At time 1504.50\n",
      "\t 24.65 % observed risk 0\n",
      "\t 11.78 % observed risk 1\n",
      "\t 4.61 % observed risk 2\n",
      "\t 28.74 % observed risk 3\n",
      "Total\n",
      "\t 39.80 % observed risk 0\n",
      "\t 15.07 % observed risk 1\n",
      "\t 5.81 % observed risk 2\n",
      "\t 39.32 % observed risk 3\n"
     ]
    }
   ],
   "source": [
    "# Display the percentage of observed event at different time horizon\n",
    "for time in times:\n",
    "    print('At time {:.2f}'.format(time))\n",
    "    for risk in np.unique(e):\n",
    "        print('\\t {:.2f} % observed risk {}'.format(100 * ((e == risk) & (t < time)).mean(), risk))\n",
    "\n",
    "print('Total')\n",
    "for risk in np.unique(e):\n",
    "    print('\\t {:.2f} % observed risk {}'.format(100 * ((e == risk)).mean(), risk))"
   ]
  },
  {
   "cell_type": "markdown",
   "metadata": {},
   "source": [
    "### Splitting the data into train, test and validation sets\n",
    "\n",
    "We will train NFG on 80% of the Data (10 % of which is used for stopping criterion and 10% for model Selection) and report performance on the remaining 20% held out test set."
   ]
  },
  {
   "cell_type": "code",
   "execution_count": 9,
   "metadata": {},
   "outputs": [],
   "source": [
    "from sklearn.model_selection import train_test_split\n",
    "\n",
    "x_train, x_test, t_train, t_test, e_train, e_test = train_test_split(x, t, e, test_size = 0.2, random_state = 42)\n",
    "x_train, x_val, t_train, t_val, e_train, e_val = train_test_split(x_train, t_train, e_train, test_size = 0.2, random_state = 42)\n",
    "#x_dev, t_dev, e_dev = x_val.copy(), t_val.copy(), e_val.copy()\n",
    "x_dev, x_val, t_dev, t_val, e_dev, e_val = train_test_split(x_val, t_val, e_val, test_size = 0.5, random_state = 42)"
   ]
  },
  {
   "cell_type": "markdown",
   "metadata": {},
   "source": [
    "### Setting the parameter grid\n",
    "\n",
    "As a constrained neural network, training is sensitive to the hyperparameters, we recommend a grid search as followed:"
   ]
  },
  {
   "cell_type": "code",
   "execution_count": 10,
   "metadata": {},
   "outputs": [],
   "source": [
    "from sklearn.model_selection import ParameterSampler"
   ]
  },
  {
   "cell_type": "code",
   "execution_count": 11,
   "metadata": {},
   "outputs": [],
   "source": [
    "layers = [[50], [50, 50], [50, 50, 50], [100], [100, 100], [100, 100, 100]]\n",
    "param_grid = {\n",
    "            'learning_rate' : [1e-3, 1e-4],\n",
    "            'layers_surv': layers,\n",
    "            'layers' : layers,\n",
    "            'batch': [100, 250],\n",
    "            }\n",
    "params = ParameterSampler(param_grid, 5, random_state = 42)"
   ]
  },
  {
   "cell_type": "markdown",
   "metadata": {},
   "source": [
    "### Model Training and Selection"
   ]
  },
  {
   "cell_type": "code",
   "execution_count": 12,
   "metadata": {},
   "outputs": [],
   "source": [
    "from nfg import NeuralFineGray"
   ]
  },
  {
   "cell_type": "code",
   "execution_count": 13,
   "metadata": {},
   "outputs": [
    {
     "data": {
      "text/plain": [
       "True"
      ]
     },
     "execution_count": 13,
     "metadata": {},
     "output_type": "execute_result"
    }
   ],
   "source": [
    "import torch \n",
    "torch.cuda.is_available() > 0"
   ]
  },
  {
   "cell_type": "code",
   "execution_count": 14,
   "metadata": {},
   "outputs": [
    {
     "name": "stderr",
     "output_type": "stream",
     "text": [
      "Loss: 1.337:  30%|███       | 305/1000 [01:30<03:26,  3.37it/s]\n",
      "Loss: 1.309:  33%|███▎      | 329/1000 [03:50<07:50,  1.42it/s]\n",
      "Loss: 1.863:  29%|██▉       | 288/1000 [01:29<03:40,  3.23it/s]\n",
      "Loss: 3.406:   1%|          | 7/1000 [00:02<04:45,  3.47it/s]\n",
      "Loss: 1.418:  17%|█▋        | 171/1000 [02:07<10:20,  1.34it/s]\n"
     ]
    }
   ],
   "source": [
    "models = []\n",
    "for param in params:\n",
    "    model = NeuralFineGray(layers = param['layers'], layers_surv = param['layers_surv'])\n",
    "    # The fit method is called to train the model\n",
    "    model.fit(x_train, t_train, e_train, n_iter = 1000, bs = param['batch'],\n",
    "            lr = param['learning_rate'], val_data = (x_dev, t_dev, e_dev))\n",
    "    nll = model.compute_nll(x_val, t_val, e_val)\n",
    "    if not(np.isnan(nll)):\n",
    "        models.append([nll, model])\n",
    "    else:\n",
    "        print(\"WARNING: Nan Value Observed\")"
   ]
  },
  {
   "cell_type": "code",
   "execution_count": 15,
   "metadata": {},
   "outputs": [],
   "source": [
    "best_model = min(models, key = lambda x: x[0])\n",
    "model = best_model[1]"
   ]
  },
  {
   "cell_type": "markdown",
   "metadata": {},
   "source": [
    "### Inference\n",
    "\n",
    "Model prediction for the different patients and analysis of the results. As we use cumulative metrics, we predict over a grid of points."
   ]
  },
  {
   "cell_type": "code",
   "execution_count": 16,
   "metadata": {},
   "outputs": [],
   "source": [
    "pred_times = np.linspace(0, t_train.max(), 100)\n",
    "out_survival = model.predict_survival(x_test, pred_times.tolist())\n",
    "out_risk = 1 - out_survival"
   ]
  },
  {
   "cell_type": "markdown",
   "metadata": {},
   "source": [
    "### Evaluation\n",
    "\n",
    "We evaluate the performance of NFG in its discriminative ability (Time Dependent Concordance Index and Cumulative Dynamic AUC) as well as Brier Score. Note that we implemented competing risks metrics."
   ]
  },
  {
   "cell_type": "code",
   "execution_count": 17,
   "metadata": {},
   "outputs": [],
   "source": [
    "from metrics import truncated_concordance_td, auc_td, brier_score"
   ]
  },
  {
   "cell_type": "code",
   "execution_count": 18,
   "metadata": {},
   "outputs": [
    {
     "name": "stdout",
     "output_type": "stream",
     "text": [
      "For 0.25 quantile,\n",
      "Truncated Concordance Index: 0.467\n",
      "tdAUC: 0.463\n",
      "Brier Score: 0.026\n",
      "**************************************************\n",
      "For 0.5 quantile,\n",
      "Truncated Concordance Index: 0.406\n",
      "tdAUC: 0.404\n",
      "Brier Score: 0.073\n",
      "**************************************************\n",
      "For 0.75 quantile,\n",
      "Truncated Concordance Index: 0.474\n",
      "tdAUC: 0.494\n",
      "Brier Score: 0.119\n",
      "**************************************************\n"
     ]
    }
   ],
   "source": [
    "cis, brs, rocs = [], [], []\n",
    "km = (e_train, t_train)\n",
    "for i, te in enumerate(times):\n",
    "    # Compute metrics for risk = 1 and estimate the km used for IPCW\n",
    "    ci, km = truncated_concordance_td(e_test, t_test, out_risk, pred_times, te, km = km, competing_risk = 1) \n",
    "    cis.append(ci)\n",
    "    brs.append(brier_score(e_test, t_test, out_risk, pred_times, te, km = km, competing_risk = 1)[0])\n",
    "    rocs.append(auc_td(e_test, t_test, out_risk, pred_times, te, km = km, competing_risk = 1)[0])\n",
    "\n",
    "for i, horizon in enumerate(horizons):\n",
    "    print(f\"For {horizon} quantile,\")\n",
    "    print(\"Truncated Concordance Index: {:.3f}\".format(cis[i]))\n",
    "    print(\"tdAUC: {:.3f}\".format(rocs[i]))\n",
    "    print(\"Brier Score: {:.3f}\".format(brs[i]))\n",
    "    print('*' * 50)"
   ]
  },
  {
   "cell_type": "code",
   "execution_count": 21,
   "metadata": {},
   "outputs": [
    {
     "name": "stdout",
     "output_type": "stream",
     "text": [
      "For 0.25 quantile,\n",
      "Truncated Concordance Index: 0.569\n",
      "tdAUC: 0.576\n",
      "Brier Score: 0.106\n",
      "**************************************************\n",
      "For 0.5 quantile,\n",
      "Truncated Concordance Index: 0.548\n",
      "tdAUC: 0.550\n",
      "Brier Score: 0.185\n",
      "**************************************************\n",
      "For 0.75 quantile,\n",
      "Truncated Concordance Index: 0.538\n",
      "tdAUC: 0.538\n",
      "Brier Score: 0.258\n",
      "**************************************************\n"
     ]
    }
   ],
   "source": [
    "cis, brs, rocs = [], [], []\n",
    "km = (e_train, t_train)\n",
    "for i, te in enumerate(times):\n",
    "    # Compute metrics for risk = 1 and estimate the km used for IPCW\n",
    "    ci, km = truncated_concordance_td(e_test, t_test, out_risk, pred_times, te, km = km, competing_risk = 1) \n",
    "    cis.append(ci)\n",
    "    brs.append(brier_score(e_test, t_test, out_risk, pred_times, te, km = km, competing_risk = 1)[0])\n",
    "    rocs.append(auc_td(e_test, t_test, out_risk, pred_times, te, km = km, competing_risk = 1)[0])\n",
    "\n",
    "for i, horizon in enumerate(horizons):\n",
    "    print(f\"For {horizon} quantile,\")\n",
    "    print(\"Truncated Concordance Index: {:.3f}\".format(cis[i]))\n",
    "    print(\"tdAUC: {:.3f}\".format(rocs[i]))\n",
    "    print(\"Brier Score: {:.3f}\".format(brs[i]))\n",
    "    print('*' * 50)"
   ]
  },
  {
   "cell_type": "code",
   "execution_count": 21,
   "metadata": {},
   "outputs": [
    {
     "ename": "NameError",
     "evalue": "name 'durations_test' is not defined",
     "output_type": "error",
     "traceback": [
      "\u001b[0;31m---------------------------------------------------------------------------\u001b[0m",
      "\u001b[0;31mNameError\u001b[0m                                 Traceback (most recent call last)",
      "Cell \u001b[0;32mIn[21], line 1\u001b[0m\n\u001b[0;32m----> 1\u001b[0m out_risk\u001b[38;5;241m.\u001b[39mshape, \u001b[43mdurations_test\u001b[49m\u001b[38;5;241m.\u001b[39mshape, events_test\u001b[38;5;241m.\u001b[39mshape\n",
      "\u001b[0;31mNameError\u001b[0m: name 'durations_test' is not defined"
     ]
    }
   ],
   "source": [
    "out_risk.shape, durations_test.shape, events_test.shape"
   ]
  },
  {
   "cell_type": "code",
   "execution_count": 20,
   "metadata": {},
   "outputs": [
    {
     "data": {
      "text/plain": [
       "(100, 633)"
      ]
     },
     "execution_count": 20,
     "metadata": {},
     "output_type": "execute_result"
    }
   ],
   "source": [
    "# transpose out_risk \n",
    "out_risk = out_risk.T\n",
    "out_risk.shape"
   ]
  },
  {
   "cell_type": "code",
   "execution_count": 22,
   "metadata": {},
   "outputs": [
    {
     "data": {
      "text/plain": [
       "(100, 633)"
      ]
     },
     "execution_count": 22,
     "metadata": {},
     "output_type": "execute_result"
    }
   ],
   "source": [
    "# out_risk of shape (887, 100) to dataframe matrix with columns rows 100 and columns 887\n",
    "import pandas as pd\n",
    "surv = pd.DataFrame(out_risk)\n",
    "surv.shape"
   ]
  },
  {
   "cell_type": "code",
   "execution_count": 41,
   "metadata": {},
   "outputs": [
    {
     "data": {
      "text/plain": [
       "array([0, 1, 2, 2, 0, 2, 0, 2, 2, 0, 0, 2, 2, 0, 0, 1, 0, 0, 0, 0, 2, 0,\n",
       "       2, 0, 0, 1, 2, 0, 0, 1, 0, 0, 2, 2, 0, 1, 0, 2, 2, 0, 1, 0, 0, 1,\n",
       "       0, 2, 0, 1, 0, 0, 1, 2, 0, 0, 0, 2, 0, 1, 2, 1, 1, 0, 0, 0, 0, 0,\n",
       "       0, 2, 0, 1, 0, 0, 0, 0, 0, 0, 2, 2, 0, 0, 1, 0, 0, 0, 0, 2, 0, 2,\n",
       "       0, 1, 2, 0, 2, 0, 0, 2, 0, 2, 0, 1, 2, 0, 0, 1, 0, 0, 2, 1, 1, 0,\n",
       "       0, 2, 0, 2, 2, 0, 2, 1, 2, 0, 0, 0, 0, 2, 2, 0, 0, 2, 0, 0, 1, 1,\n",
       "       0, 2, 0, 0, 1, 0, 0, 0, 2, 2, 0, 2, 0, 0, 0, 1, 0, 0, 0, 2, 0, 0,\n",
       "       0, 2, 1, 2, 0, 2, 2, 1, 0, 1, 0, 2, 1, 2, 2, 0, 2, 0, 0, 0, 0, 0,\n",
       "       0, 0, 2, 0, 0, 1, 0, 0, 0, 0, 0, 2, 1, 0, 0, 0, 1, 0, 0, 2, 0, 2,\n",
       "       2, 0, 2, 2, 0, 2, 2, 0, 1, 2, 0, 1, 2, 0, 0, 0, 0, 0, 0, 0, 1, 0,\n",
       "       0, 0, 0, 1, 2, 0, 0, 1, 2, 2, 1, 0, 2, 1, 2, 1, 0, 0, 0, 0, 0, 0,\n",
       "       0, 0, 0, 1, 0, 0, 1, 0, 0, 1, 0, 0, 2, 0, 2, 0, 0, 0, 2, 0, 0, 1,\n",
       "       0, 2, 0, 1, 2, 0, 0, 0, 0, 0, 0, 2, 2, 0, 0, 0, 0, 0, 0, 2, 2, 1,\n",
       "       1, 1, 0, 0, 1, 0, 0, 0, 0, 0, 0, 2, 2, 0, 2, 1, 0, 0, 2, 0, 0, 0,\n",
       "       0, 0, 1, 0, 0, 0, 0, 0, 0, 2, 1, 1, 2, 1, 0, 2, 0, 2, 0, 2, 0, 2,\n",
       "       2, 0, 0, 0, 2, 2, 0, 1, 0, 2, 1, 0, 0, 1, 0, 1, 0, 0, 2, 2, 1, 2,\n",
       "       0, 1, 2, 0, 0, 0, 2, 1, 0, 1, 1, 1, 1, 2, 1, 1, 0, 1, 2, 0, 0, 0,\n",
       "       2, 0, 0, 0, 0, 2, 0, 2, 0, 1, 0, 2, 0, 2, 0, 0, 1, 1, 1, 0, 2, 0,\n",
       "       0, 0, 0, 0, 2, 0, 0, 0, 0, 2, 0, 0, 1, 1, 2, 2, 0, 2, 2, 0, 0, 2,\n",
       "       0, 2, 2, 0, 0, 0, 1, 2, 0, 2, 0, 1, 2, 2, 2, 0, 0, 2, 0, 0, 0, 0,\n",
       "       0, 2, 2, 0, 1, 2, 0, 0, 0, 0, 2, 0, 0, 0, 0, 0, 1, 0, 0, 2, 2, 0,\n",
       "       2, 0, 0, 0, 2, 1, 1, 0, 0, 0, 2, 0, 1, 2, 0, 1, 0, 0, 0, 1, 0, 0,\n",
       "       2, 1, 2, 0, 2, 0, 2, 0, 0, 0, 0, 0, 0, 0, 0, 0, 0, 0, 0, 2, 0, 0,\n",
       "       2, 0, 0, 2, 1, 0, 0, 0, 2, 0, 2, 1, 2, 0, 0, 0, 1, 1, 1, 0, 2, 1,\n",
       "       1, 2, 0, 0, 2, 0, 1, 0, 0, 2, 0, 1, 0, 2, 0, 0, 0, 0, 0, 0, 0, 0,\n",
       "       0, 0, 2, 0, 0, 0, 2, 2, 1, 1, 1, 0, 0, 0, 1, 1, 1, 2, 0, 0, 0, 0,\n",
       "       0, 2, 2, 0, 0, 1, 0, 0, 0, 2, 0, 0, 0, 2, 0, 0, 0, 0, 0, 1, 2, 0,\n",
       "       1, 2, 2, 2, 2, 0, 0, 0, 0, 0, 2, 0, 0, 0, 1, 0, 1, 0, 1, 0, 2, 2,\n",
       "       1, 1, 2, 2, 1, 2, 1, 1, 2, 0, 0, 1, 0, 0, 1, 1, 0, 0, 0, 0, 0, 2,\n",
       "       0, 2, 0, 0, 0, 1, 0, 0, 1, 0, 0, 2, 0, 0, 0, 0, 0, 0, 0, 2, 1, 0,\n",
       "       0, 0, 0, 0, 2, 2, 2, 0, 1, 1, 2, 2, 0, 2, 0, 0, 0, 0, 2, 0, 0, 2,\n",
       "       0, 2, 2, 0, 2, 2, 0, 1, 0, 0, 2, 0, 0, 0, 2, 0, 2, 0, 0, 0, 0, 0,\n",
       "       0, 0, 0, 0, 2, 1, 0, 2, 0, 0, 2, 1, 0, 1, 2, 0, 0, 0, 0, 0, 2, 0,\n",
       "       0, 2, 1, 0, 0, 0, 0, 0, 2, 1, 0, 0, 0, 1, 2, 0, 1, 1, 1, 2, 0, 0,\n",
       "       0, 0, 0, 2, 2, 2, 2, 0, 0, 0, 1, 1, 2, 0, 0, 0, 1, 0, 2, 0, 0, 0,\n",
       "       0, 1, 1, 0, 2, 0, 0, 0, 0, 1, 0, 0, 1, 0, 2, 2, 0, 1, 0, 0, 2, 0,\n",
       "       2, 2, 0, 0, 1, 2, 1, 2, 1, 0, 1, 2, 0, 0, 1, 0, 0, 0, 1, 0, 0, 1,\n",
       "       0, 0, 0, 0, 0, 0, 2, 1, 0, 2, 0, 0, 0, 0, 0, 0, 0, 1, 0, 0, 2, 2,\n",
       "       0, 0, 0, 0, 2, 2, 0, 2, 2, 1, 0, 1, 0, 0, 0, 0, 2, 2, 0, 2, 0, 0,\n",
       "       0, 2, 0, 2, 0, 2, 2, 2, 0, 1, 0, 0, 2, 2, 1, 0, 1, 2, 2, 0, 0, 0,\n",
       "       0, 0, 0, 0, 1, 0, 0])"
      ]
     },
     "execution_count": 41,
     "metadata": {},
     "output_type": "execute_result"
    }
   ],
   "source": [
    "events_test"
   ]
  },
  {
   "cell_type": "code",
   "execution_count": 25,
   "metadata": {},
   "outputs": [
    {
     "name": "stdout",
     "output_type": "stream",
     "text": [
      "Overall C-index: 0.4496\n"
     ]
    }
   ],
   "source": [
    "from pycox.evaluation import EvalSurv\n",
    "durations_test = t_test\n",
    "events_test = e_test\n",
    "num_risks = 1\n",
    "time_grid = pred_times\n",
    "\n",
    "\n",
    "#surv = model.predict_surv_df(x_test)\n",
    "#surv = out_risk\n",
    "ev_test = EvalSurv(surv, durations_test, events_test == 2, censor_surv=\"km\")\n",
    "overall_c_index = ev_test.concordance_td()\n",
    "print(f\"Overall C-index: {overall_c_index:.4f}\")\n",
    "\n",
    "# Per-event evaluation using cumulative incidence functions (CIF)\n",
    "#cif = model.predict_cif(x_test)  # List of arrays (one per risk)\n",
    "#cif = out_risk\n",
    "#event_metrics = {}\n",
    "#for i in range(num_risks):\n",
    "#    #cif_i = pd.DataFrame(cif[i], model.duration_index)\n",
    "#    cif_i = out_risk\n",
    "#    ev_event = EvalSurv(1 - cif_i, durations_test, events_test == (i+1), censor_surv=\"km\")\n",
    "#    event_c_index = ev_event.concordance_td()\n",
    "#    #time_grid = np.linspace(0, durations_test.max(), best_params[\"num_durations\"])\n",
    "    \n",
    "#    event_ibs = ev_event.integrated_brier_score(time_grid)\n",
    "#    event_metrics[f\"event_{i+1}\"] = {\"c_index\": event_c_index, \"ibs\": event_ibs}\n",
    "\n",
    "#metrics = {\"overall_c_index\": overall_c_index, \"event_metrics\": event_metrics}"
   ]
  }
 ],
 "metadata": {
  "kernelspec": {
   "display_name": "ukbb",
   "language": "python",
   "name": "python3"
  },
  "language_info": {
   "codemirror_mode": {
    "name": "ipython",
    "version": 3
   },
   "file_extension": ".py",
   "mimetype": "text/x-python",
   "name": "python",
   "nbconvert_exporter": "python",
   "pygments_lexer": "ipython3",
   "version": "3.10.13"
  }
 },
 "nbformat": 4,
 "nbformat_minor": 4
}
